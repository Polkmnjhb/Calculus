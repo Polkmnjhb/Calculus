{
 "metadata": {
  "name": ""
 },
 "nbformat": 3,
 "nbformat_minor": 0,
 "worksheets": [
  {
   "cells": [
    {
     "cell_type": "heading",
     "level": 1,
     "metadata": {},
     "source": [
      "Calculus Ch.4.1~4.4\u3000\u3000\u3000\u3000\u3000\u3000\u3000\u3000\u3000\u3000\u3000Date:2014/12/05"
     ]
    },
    {
     "cell_type": "heading",
     "level": 2,
     "metadata": {},
     "source": [
      "<font color='green'>\n",
      "Def : The number $f(c)$ is a<br>\n",
      "    (i)<font color='red'>local maximum value(\u5340\u57df\u6975\u5927\u503c)</font> of $f$ if $f(c) \\geq f(x)$ when x is near c<br>\n",
      "    (ii)<font color='red'>absolute maximum value(\u7d55\u5c0d\u6975\u5927\u503c)</font> of $f$ if $f(c) \\geq f(x)$ for all $x \\in Domain(f)$<br>\n",
      "    (iii)<font color='red'>local minimum value(\u5340\u57df\u6975\u5c0f\u503c)</font> of $f$ if $f(c) \\leq f(x)$ when x is near c<br>\n",
      "    (iv)<font color='red'>absolute minimum value(\u7d55\u5c0d\u6975\u5c0f\u503c)</font> of $f$ if $f(c) \\leq f(x)$ for all $x \\in Domain(f)$\n",
      "</font>"
     ]
    },
    {
     "cell_type": "heading",
     "level": 2,
     "metadata": {},
     "source": [
      "<font color='blue'>The Extreme Value Theorem(\u6975\u503c\u5b9a\u7406):<br>\n",
      "    If $f$ is continuous on a closed interval $[a,b]$ <br>\n",
      "    then f attains an absolute maximum value $f(c)$ and an absolute minimum value $f(d)$ at some number $c$ and $d$ in $[a,b]$.<br></font>\n",
      "\u8aaa\u660e\uff1a\u4e00\u500b\u9023\u7e8c\u51fd\u6578\u5728\u6709\u9650\u9589\u5340\u9593\u4e00\u5b9a\u53ef\u4ee5\u627e\u5230\u7d55\u5c0d\u6975\u5927\u503c\u548c\u7d55\u5c0d\u6975\u5c0f\u503c<br>\n",
      "\u56e0\u70ba\u662f\u9023\u7e8c\u51fd\u6578\uff0c\u5728\u9589\u5340\u9593\u4e2d\u6bcf\u4e00\u9ede\u7684\u503c\u548c\u6bcf\u4e00\u9ede\u7684\u6975\u9650\u4f60\u90fd\u53ef\u4ee5\u627e\u5230<br>\n",
      "\u6211\u5011\u5c31\u53d6\u5176\u4e2d\u6700\u5927\u7684\u6578\u503c\u7576\u4f5c\u6700\u5927\u503c\uff0c\u5176\u4e2d\u6700\u5c0f\u7684\u6578\u503c\u7576\u4f5c\u6700\u5c0f\u503c.<br><br>\n",
      "\u4f46\u5728\u958b\u5340\u9593\u7684\u7aef\u9ede\u6703\u51fa\u554f\u984c\uff01<br>\n",
      "\u4f8b\u5982$f(x)=\\frac{1}{x}$ \u5728 (0,1)\u9023\u7e8c \uff0c\u537b\u627e\u4e0d\u5230\u6700\u5927\u503c($\\rightarrow \\infty$)\u548c\u6700\u5c0f\u503c($\\rightarrow 1$)"
     ]
    },
    {
     "cell_type": "heading",
     "level": 2,
     "metadata": {},
     "source": [
      "<font color='blue'>Fermat's Theorem:<br>\n",
      "    If $f$ has a local maximum or minimum at $c$ , and if $f'(c)$ exists , then $f'(c)=0$<br></font>\n",
      "\u8aaa\u660e\uff1a\u6ce8\u610f\u53cd\u6558\u8ff0\uff0c$f'(c)=0$\u4e0d\u898b\u5f97\u662f\u6975\u5927\u6216\u6975\u5c0f\u503c<br>\n",
      "\u4f8b\u5982$f(x)=x^3$ , $f'(0) = 0$ \u4f46 $f(0)=0$\u4e0d\u662f\u6975\u5927\u503c\u4e5f\u4e0d\u662f\u6975\u5c0f\u503c\u3002"
     ]
    },
    {
     "cell_type": "heading",
     "level": 2,
     "metadata": {},
     "source": [
      "<font color='blue'>Rolle's Theorem(\u7f85\u723e\u5b9a\u7406):<br>\n",
      "    Let $f$ be a function that satisfies the following hypotheses:<br>\n",
      "    1.$f$ is continuous on the closed interval $[a,b]$ <br>\n",
      "    2.$f$ is differentiable on the open interval $(a,b)$ <br>\n",
      "    3.$f(a)=f(b)$\n",
      "    Then there is at least one number $c$ in $(a,b)$ such that \u300c$f'(c)=0$\u300d<br></font>\n",
      "\u8aaa\u660e\uff1a\u4e00\u500b\u53ef\u5fae\u5206\u9023\u7e8c\u51fd\u6578\uff0c\u4f60\u53ef\u4ee5\u628a\u4ed6\u60f3\u50cf\u6210\u4e00\u689d\u6c92\u6709\u65b7\u9ede\u7684\u66f2\u7dda<br>\n",
      "\u5f9e$a$\u9019\u9ede\u8d70\u5230$b$\u9019\u4e00\u9ede\uff0c\u8209\u4e00\u500b\u4f8b\u5b50<br>\n",
      "![Foo](https://fbcdn-sphotos-h-a.akamaihd.net/hphotos-ak-xpa1/v/t34.0-12/10822629_880442215313978_2080732422_n.jpg?oh=3fc129f99bf38dd3308aab1ef78004fa&oe=54830388&__gda__=1417878888_590801391798084497ef4d85be834ba2)<br>\n",
      "$f(x)=sin(x)$ \u5728 $[-\\pi , \\pi]$ \u662f\u4e00\u500b\u9023\u7e8c\u51fd\u6578<br>\n",
      "\u5df2\u77e5$f(-\\pi)=f(0)=f(\\pi)=0$\uff0c\u5047\u8a2d\u6709\u500b\u4eba\u5f9e\u5de6\u908a\u8d70\u5230\u53f3\u908a<br>\n",
      "\u7d93\u904e$x=-\\pi$ \u4e4b\u5f8c\u5f80\u4e0b($f'(x) < 0$)\uff0c\u56e0\u70ba$f(0)$\u8981\u56de\u52300\uff0c\u52e2\u5fc5\u6709\u4e00\u6bb5\u8def\u7a0b\u662f\u5f80\u4e0a\u7684($f'(x) > 0$)<br>\n",
      "\u56e0\u70ba\u662f\u9023\u7e8c\u51fd\u6578\uff0c\u5728$-\\pi$ \u548c 0\u4e4b\u9593\u5fc5\u5b9a\u6709\u4e00\u9ede$c_1$\uff0c\u6703\u525b\u597d\u662f$f'(c_1)=0$ <br>\n",
      "\u540c\u6a23\u7684\uff0c\u7d93\u904e$x=0$ \u4e4b\u5f8c\u5f80\u4e0a($f'(x) > 0$)\uff0c\u56e0\u70ba$f(\\pi)$\u8981\u56de\u52300\uff0c\u52e2\u5fc5\u6709\u4e00\u6bb5\u8def\u7a0b\u662f\u5f80\u4e0b\u7684($f'(x) < 0$)<br>\n",
      "\u56e0\u70ba\u662f\u9023\u7e8c\u51fd\u6578\uff0c\u57280\u548c$\\pi$\u4e4b\u9593\u5fc5\u5b9a\u6709\u4e00\u9ede$c_2$\uff0c\u6703\u525b\u597d\u662f$f'(c_2)=0$ <br>\n",
      "\u9019\u500b\u4f8b\u5b50\u4e2d$c_1=\\frac{-\\pi}{2} ,c_2=\\frac{\\pi}{2} \\Rightarrow f'(c_1)=cos(\\frac{-\\pi}{2})=0 , f'(c_2)=cos(\\frac{\\pi}{2})=0$ "
     ]
    },
    {
     "cell_type": "heading",
     "level": 2,
     "metadata": {},
     "source": [
      "<font color='blue'>The Mean Value Theorem(\u5747\u503c\u5b9a\u7406):<br>\n",
      "    Let $f$ be a function that satisfies the following hypotheses:<br>\n",
      "    1.$f$ is continuous on the closed interval $[a,b]$ <br>\n",
      "    2.$f$ is differentiable on the open interval $(a,b)$ <br>\n",
      "    Then there is at least one number $c$ in $(a,b)$ such that \u300c$f'(c)=\\frac{f(b)-f(a)}{b-a}$\u300d or \u300c$f(b)-f(a)=f'(c)(b-a)$\u300d<br></font>\n",
      "\u8aaa\u660e\uff1a\u7f85\u723e\u5b9a\u7406\u662f\u6b64\u5b9a\u7406\u7684\u4e00\u500b\u7279\u4f8b\uff0c$ f(a)-f(b)=0$<br>"
     ]
    },
    {
     "cell_type": "heading",
     "level": 2,
     "metadata": {},
     "source": [
      "<font color='green'>\n",
      "    Def : A <font color='red'>critical number(\u81e8\u754c\u9ede)</font> of a function $f$ is a number $c$ in the domain of $f$ such that either $f'(c)=0$ or $f'(c)$ does not exist</font>"
     ]
    },
    {
     "cell_type": "heading",
     "level": 2,
     "metadata": {},
     "source": [
      "<font color='blue'>The First Derivative Test(\u9996\u6b21\u5fae\u5206\u6e2c\u8a66):<br>\n",
      "    Suppose that $c$ is a critical number of a continuous function $f$<br>\n",
      "    (a)If $f'$ changes from positive to negative at $c$ , then $f$ has a local maximum at $c$. <br>\n",
      "    (b)If $f'$ changes from negative to positive at $c$ , then $f$ has a local minimum at $c$. <br>\n",
      "    (c)If $f'$ does not change sign at $c$ , then $f$ has no local maximum or minimum at $c$. </font>"
     ]
    },
    {
     "cell_type": "heading",
     "level": 2,
     "metadata": {},
     "source": [
      "<font color='blue'>The Second Derivative Test(\u4e8c\u6b21\u5fae\u5206\u6e2c\u8a66):<br>\n",
      "    Suppose that $f''$ is continuous near c.<br>\n",
      "    (a)If $f'(c)=0$ and $f''(c) < 0$ , then $f$ has a local maximum at $c$. <br>\n",
      "    (b)If $f'(c)=0$ and $f''(c) > 0$ , then $f$ has a local minimum at $c$. </font>"
     ]
    },
    {
     "cell_type": "heading",
     "level": 2,
     "metadata": {},
     "source": []
    }
   ],
   "metadata": {}
  }
 ]
}