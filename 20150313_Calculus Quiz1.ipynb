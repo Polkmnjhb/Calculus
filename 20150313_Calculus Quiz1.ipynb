{
 "metadata": {
  "name": ""
 },
 "nbformat": 3,
 "nbformat_minor": 0,
 "worksheets": [
  {
   "cells": [
    {
     "cell_type": "heading",
     "level": 1,
     "metadata": {},
     "source": [
      "Calculus Quiz1"
     ]
    },
    {
     "cell_type": "heading",
     "level": 2,
     "metadata": {},
     "source": [
      "<font color='red'>\n",
      "1. Compute $\\int \\sin ^2(x) \\cos ^4 (x) + \\tan ^4(x) \\sec ^6 (x) dx$"
     ]
    },
    {
     "cell_type": "heading",
     "level": 3,
     "metadata": {},
     "source": [
      "Sol:<br>\n",
      "\u5229\u7528\u4e2d\u570b\u53e4\u4ee3\u6230\u7565\u4e2d\uff0c\u300c\u5206\u800c\u6cbb\u4e4b\u300d\u7684\u6982\u5ff5<br>\n",
      "\u56e0\u70ba\u7a4d\u5206\u662f\u7dda\u6027\u7684\uff0c\u6211\u5011\u5c07\u539f\u5f0f\u5206\u70ba<br>\n",
      "$A_1=\\int \\sin ^2(x) \\cos ^4 (x)dx$<br>\n",
      "$A_2= \\int \\tan ^4(x) \\sec ^6 (x) dx$ \u5169\u500b\u90e8\u4efd<br><br>\n",
      "\n",
      "$A_1$\u56e0\u70ba\u6b21\u6578\u90fd\u70ba\u5076\u6578\u6b21\uff0c\u6211\u5011\u5f88\u76f4\u89ba\u7684\u5229\u7528\u534a\u89d2\u516c\u5f0f\u4f86\u505a\u5b83<br>\n",
      "$\\sin ^2(x)=\\frac{1-\\cos (2x)}{2}$ , $\\cos ^2(x) =\\frac{1+\\cos (2x)}{2}$<br>\n",
      "\u7d93\u904e\u4e00\u4e9b\u4e09\u89d2\u95dc\u4fc2\u8f49\u63db\u5f8c\uff0c$\\sin ^2(x) \\cos ^4 (x)$\u6703\u8b8a\u6210$\\Sigma \\cos (nx)$\u7684\u5f62\u5f0f<br>\n",
      "\u800c$\\cos (nx)$\u7684\u7a4d\u5206\u5c31\u662f$\\frac{\\sin(nx)}{n}$\uff0c$A_1$\u7684\u90e8\u4efd\u5c31\u89e3\u6c7a\u4e86<br>\n",
      "$A_1=\\int \\sin ^2(x) \\cos ^4 (x)dx=\\int [\\frac{1-\\cos (2x)}{2}] \\cdot [\\frac{1+\\cos (2x)}{2}]^2 dx$<br>\n",
      "$=\\frac{1}{8} \\int [1-\\cos (2x)][1+2\\cos(2x)+\\cos ^2(2x)]dx$<br>\n",
      "$=\\frac{1}{8} \\int [1-\\cos (2x)][\\frac{3}{2}+2\\cos(2x)+\\frac{\\cos (4x)}{2}]dx$<br>\n",
      "$=\\frac{1}{8} \\int [\\frac{3}{2}+\\frac{\\cos(2x)}{2}+\\frac{\\cos(4x)}{2}-2\\cos^2(2x)-\\frac{\\cos(2x)\\cos(4x)}{2}]dx$<br>\n",
      "$=\\frac{1}{8} \\int [\\frac{1}{2}+\\frac{\\cos(2x)}{4}-\\frac{\\cos(4x)}{2}-\\frac{\\cos(6x)}{4}]dx$<br>\n",
      "$=\\int [\\frac{1}{16}+\\frac{\\cos(2x)}{32}-\\frac{\\cos(4x)}{16}-\\frac{\\cos(6x)}{32}]dx$<br>\n",
      "$=[\\frac{1}{16}x+\\frac{\\sin(2x)}{64}-\\frac{\\sin(4x)}{64}-\\frac{\\sin(6x)}{192}]+C_1$<br><br>\n",
      "\n",
      "$A_2$\u6bd4\u8f03\u7c21\u55ae\uff0c\u6709$\\tan(x)$\u548c$\\sec^2(x)$\uff0c\u76f4\u89ba\u5047\u8a2d$u=\\tan(x)$\uff0c\u56e0\u6b64$du=\\sec^2(x) dx$ <br>\n",
      "\u63a5\u8457\u5229\u7528$\\sec^2(x)=1+\\tan^2(x)$\uff0c\u53ef\u4ee5\u5f97\u5230\u4e00\u500b\u53ea\u6709$u$\u591a\u9805\u5f0f\u7684\u7a4d\u5206\u5f0f<br>\n",
      "$A_2= \\int \\tan ^4(x) \\sec ^6 (x) dx$ =\\int \\tan^4(x) [1+\\tan^2(x)]^2 \\sec^2(x)dx<br>\n",
      "$=\\int u^4 [1+u^2]^2 du$<br>\n",
      "$=\\int u^4+2u^6+u^8 du$<br>\n",
      "$=\\frac{u^5}{5}+\\frac{2u^7}{7}+\\frac{u^9}{9}$ \u9084\u6c92\u7d50\u675f<br>\n",
      "$=\\frac{\\tan^5(x)}{5}+\\frac{2\\tan^7(x)}{7}+\\frac{\\tan^9(x)}{9}+C_2$ <br><br>\n",
      "\n",
      "$\u539f\u5f0f=A_1+A_2=[\\frac{1}{16}x+\\frac{\\sin(2x)}{64}-\\frac{\\sin(4x)}{64}-\\frac{\\sin(6x)}{192}]+[\\frac{\\tan^5(x)}{5}+\\frac{2\\tan^7(x)}{7}+\\frac{\\tan^9(x)}{9}]+C$\n"
     ]
    },
    {
     "cell_type": "heading",
     "level": 2,
     "metadata": {},
     "source": [
      "<font color='red'>\n",
      "    2. Compute $\\int \\frac {x} {\\sqrt{x^2+x+1}} dx$"
     ]
    },
    {
     "cell_type": "heading",
     "level": 3,
     "metadata": {},
     "source": [
      "Sol:<br>\n",
      "\u5148\u914d\u65b9\uff01\u76ee\u7684\u662f\u628a\u5b83\u8b8a\u6210\u4f60\u6703\u505a\u7684<br>\n",
      "$x^2+x+1=(x+\\frac{1}{2})^2+\\frac{3}{4}$<br>\n",
      "$\\Rightarrow \u539f\u5f0f =\\int \\frac{x}{\\sqrt{ (x+\\frac{1}{2})^2+\\frac{3}{4}}} dx$ \uff0c\u63a5\u8457\u4ee4$u=x+\\frac{1}{2} , du=dx$<br>\n",
      "$\\Rightarrow \u539f\u5f0f= \\int \\frac{u-\\frac{1}{2} } {\\sqrt{u^2+[\\frac{\\sqrt{3}}{2}]^2} } du$ <br> \n",
      "\u51fa\u73fe$\\sqrt{(\\frac{\\sqrt{3}}{2})^2+u^2}$ \uff0c\u4ee4$(\\frac{\\sqrt{3}}{2}) \\tan(\\theta) = u$\uff0c\u53ef\u5f97\u5230$\\sqrt{(\\frac{\\sqrt{3}}{2})^2+u^2}=(\\frac{\\sqrt{3}}{2})\\sec(\\theta)$<br>\n",
      "\u800c\u4e14$du=(\\frac{\\sqrt{3}}{2}) \\sec^2(\\theta) d\\theta$<br> \n",
      "$\\Rightarrow \u539f\u5f0f= \\int \\frac{(\\frac{\\sqrt{3}}{2}) \\tan(\\theta) -\\frac{1}{2} } {(\\frac{\\sqrt{3}}{2})\\sec(\\theta)} (\\frac{\\sqrt{3}}{2}) \\sec^2(\\theta) d\\theta = \\int (\\frac{\\sqrt{3}}{2}) \\tan(\\theta)\\sec(\\theta) - \\frac{1}{2}\\sec(\\theta)d\\theta$<br>\n",
      "$\\Rightarrow \u539f\u5f0f=(\\frac{\\sqrt{3}}{2}) \\sec(\\theta) -\\frac{1}{2}ln|\\tan(\\theta)+\\sec(\\theta)|+C$<br>\n",
      "$\\Rightarrow \u539f\u5f0f=\\sqrt{u^2+\\frac{3}{4}} -\\frac{1}{2}ln|\\frac{u}{(\\frac{\\sqrt{3}}{2})}+\\frac{\\sqrt{u^2+\\frac{3}{4}}}{(\\frac{\\sqrt{3}}{2})}|+C$<br>\n",
      "$\\Rightarrow \u539f\u5f0f=\\sqrt{x^2+x+1}  -\\frac{1}{2} ln|(x+\\frac{1}{2}) +\\sqrt{x^2+x+1}   |+\\frac{1}{2} ln(\\frac{\\sqrt{3}}{2})+C$"
     ]
    },
    {
     "cell_type": "heading",
     "level": 2,
     "metadata": {},
     "source": [
      "<font color='red'>\n",
      "    3. Compute $\\int \\frac{10}{(x-1)(x^2+9)} dx$"
     ]
    },
    {
     "cell_type": "heading",
     "level": 3,
     "metadata": {},
     "source": [
      "Sol:<br>\n",
      "step1:<br>\n",
      "\u5047\u8a2d$\\frac{10}{(x-1)(x^2+9)} = \\frac{A}{(x-1)} + \\frac{Bx+C}{(x^2+9)}$<br>\n",
      "$\\Rightarrow 10 = A(x^2+9)+(Bx+C)(x-1)$<br>\n",
      "\u9019\u6642\u5019\u5206\u5225\u4ee3\u5165$Q(x)=(x-1)(x^2+9)$\u7684\u6839$x=1 , 3i ,-3i$<br>\n",
      "\u4ee3\u5165$x=1 \\Rightarrow 10=10A \\Rightarrow A=1$<br>\n",
      "\u4ee3\u5165$x=3i \\Rightarrow 10=(Bx+C)(3i-1)=(-9B-C) +(3C-3B)i \\Rightarrow B=C=-1$<br>\n",
      "step2:<br>\n",
      "\u5c07\u5206\u5f0f\u4ee3\u56de\u539f\u5f0f\u5f97\u5230\n",
      "$\\int \\frac{10}{(x-1)(x^2+9)} dx = \\int [ \\frac{1}{(x-1)} - \\frac{(x+1)}{(x^2+9)}] dx$<br>\n",
      "$=\\int \\frac{1}{(x-1)}dx -\\int \\frac{x}{x^2+9}dx - \\int \\frac{1}{(x^2+9)}dx$ <br>\n",
      "$=ln|(x-1)| - \\frac{1}{2} ln(x^2+9) - \\frac{1}{3} \\tan ^{-1}(\\frac{x}{3})+C$"
     ]
    },
    {
     "cell_type": "heading",
     "level": 1,
     "metadata": {},
     "source": [
      "\u8ab2\u672cP.463\u7684\u90a3\u4e9b\u5e38\u7528\u7a4d\u5206\u4e00\u5b9a\u8981\u6703\uff01"
     ]
    }
   ],
   "metadata": {}
  }
 ]
}