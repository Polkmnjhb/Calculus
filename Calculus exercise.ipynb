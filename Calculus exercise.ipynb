{
 "metadata": {
  "name": ""
 },
 "nbformat": 3,
 "nbformat_minor": 0,
 "worksheets": [
  {
   "cells": [
    {
     "cell_type": "markdown",
     "metadata": {},
     "source": [
      "<font color='red'>\n",
      "Q1: $\\int \\frac{ln(5x)}{x} dx $ <br>\n",
      "</font>\n",
      "Sol:<br>\n",
      "\"method1\"<br>\n",
      "Since $ln(5x)=ln(5)+ln(x)$<br>\n",
      "$\\int \\frac{ln(5x)}{x} dx =\\int \\frac{ln(5)}{x}dx +\\int \\frac{ln(x)}{x}  dx =ln(5)\\int \\frac{1}{x}dx + \\int \\frac{ln(x)}{x}  dx $<br>\n",
      "and we know that <br>\n",
      "(a)$\\int \\frac{1}{x}dx  = ln(x)+C_1$, where $C_1$ is a constant<br><br>\n",
      "(b) Let $u=ln(x) \\Rightarrow du=\\frac{1}{x} dx$ <br>\n",
      "$ \\int \\frac{ln(x)}{x}  dx = \\int u du = \\frac{u^2}{2} +C_2 = \\frac{ ( ln(x) )^2} {2} +C_2$ ,where $C_2$ is a constant <br>\n",
      "By (a) & (b) , $\\int \\frac{ln(5x)}{x} dx = ln(5) [ ln(x)+C_1]+  \\frac{ ( ln(x) )^2} {2} +C_2 = ln(5)  ln(x) + \\frac{ ( ln(x) )^2} {2} +C $<br><br>\n",
      "\"method2\"<br>\n",
      "Let $t=5x \\Rightarrow dt = 5dx $<br>\n",
      "Then  $\\int \\frac{ln(5x)}{x} dx = \\int \\frac{ln(t)}{\\frac{t}{5}} \\frac{dt}{5} = \\int \\frac{ln(t)}{t} dt$<br>\n",
      "and let $u=ln(t) \\Rightarrow du = \\frac{dt}{t}$<br>\n",
      "$\\int \\frac{ln(5x)}{x} dx= \\int \\frac{ln(t)}{t} dt=\\int u du = \\frac{u^2}{2} +C= \\frac {(ln(t))^2}{2} +C= \\frac{(ln(5x))^2}{2}+C$<br>\n",
      "\u65b9\u6cd5\u4e8c\u548c\u65b9\u6cd5\u4e00\u7684\u7b54\u6848\u662f\u4e00\u6a23\u7684\uff0c\u53ea\u662f\u5e38\u6578\u9805\u6703\u4e0d\u540c<br>\n",
      "\u65b9\u6cd5\u4e8c\u5c07$ln(5x)=ln(5)+ln(x)$\u4ee3\u5165\uff0c\u6703\u5f97\u5230\u65b9\u6cd5\u4e00\u7684\u7d50\u679c\uff01\n",
      "<br>\n",
      "<br>\n",
      "<font color='red'>\n",
      "Q2: $\\int \\frac{3}{xln(x)} dx $ <br>\n",
      "</font>\n",
      "Sol:<br>\n",
      "Let $ u =ln(x) \\Rightarrow du = \\frac{dx}{x}$<br>\n",
      "Hence $\\int \\frac{3}{xln(x)} dx = 3\\int \\frac{1}{xln(x)} dx = 3\\int \\frac{1}{u} \\frac{dx}{x} = 3\\int \\frac{1}{u} du = 3ln(u) +C = 3ln(ln(x)) +C$\n",
      "<br>\n",
      "<br>\n",
      "<font color='red'>\n",
      "Q3: $\\int \\frac{\\sqrt{ln(x)}}{x} dx $ <br>\n",
      "</font>\n",
      "Sol:<br>\n",
      "Let $ u =ln(x) \\Rightarrow du = \\frac{dx}{x}$<br>\n",
      "Hence $\\int \\frac{\\sqrt{ln(x)}}{x} dx = \\int \\sqrt{u} du = \\frac{2}{3} u^{\\frac{3}{2}}+C = \\frac{2}{3} (ln(x))^{\\frac{3}{2}}+C $\n"
     ]
    },
    {
     "cell_type": "code",
     "collapsed": false,
     "input": [],
     "language": "python",
     "metadata": {},
     "outputs": []
    }
   ],
   "metadata": {}
  }
 ]
}