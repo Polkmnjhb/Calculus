{
 "metadata": {
  "name": ""
 },
 "nbformat": 3,
 "nbformat_minor": 0,
 "worksheets": [
  {
   "cells": [
    {
     "cell_type": "heading",
     "level": 1,
     "metadata": {},
     "source": [
      "Calculus Ch.3(\u4e0a)\u3000\u3000\u3000\u3000\u3000\u3000\u3000\u3000\u3000\u3000Date:2014/11/13"
     ]
    },
    {
     "cell_type": "markdown",
     "metadata": {},
     "source": [
      "\u4ec0\u9ebc\u662f<font color='red'>\u53ef\u5fae\u5206(Differentiable)</font>\uff0c\u53ef\u5fae\u5206\u5c31\u662f\u8a72\u9ede\u5c0e\u51fd\u6578\u503c\u5b58\u5728\uff01<br>\n",
      "\u53ef\u4ee5\u5c07\u5c0e\u51fd\u6578\u60f3\u50cf\u6210\u51fd\u6578\u7684\u8b8a\u5316\u7387\uff0c\u4e26\u4e14$f'(a)=\\lim\\limits_{x\\to a} \\frac{f(x)-f(a)}{x-a}=\\lim\\limits_{h\\to 0} \\frac{f(a+h)-f(a)}{h}$<br>"
     ]
    },
    {
     "cell_type": "markdown",
     "metadata": {},
     "source": [
      "<font color='red'>\n",
      "Definition:A funtion $f$ is differentiable at a point $\\alpha$ if $f'(\\alpha)$ exists.<br>\n",
      "A funtion $f$ is differentiable on a set $\\mathcal{A}$ if $f'(\\alpha)$ exists  for all $\\alpha \\in \\mathcal{A}$.<br>\n",
      "</font>"
     ]
    },
    {
     "cell_type": "heading",
     "level": 3,
     "metadata": {},
     "source": [
      "<font color='blue'>\n",
      "(A)\u5404\u7a2e\u51fd\u6578\u7684\u5c0e\u6578<br>\n",
      "(B)\u5fae\u5206\u516c\u5f0f\n",
      "</font>\n"
     ]
    },
    {
     "cell_type": "markdown",
     "metadata": {},
     "source": [
      "(A1)\u5e38\u6578\u51fd\u6578 ($f(x)=c , c$\u662f\u4e00\u500b\u5be6\u6578)<br>\n",
      "\u5e38\u6578\u51fd\u6578\u4e0d\u7ba1\u5728\u4f55\u8655\u90fd\u662f\u4e00\u500b\u5e38\u6578\uff0c\u56e0\u6b64\u5176\u8b8a\u5316\u7387\u6046\u70ba0\u3002<br>\n",
      "<font color='green'>\n",
      "$\\Rightarrow \\frac{d}{dx} c = 0$ <br><br>\n",
      "</font>\n",
      "(A2)\u6b21\u65b9\u51fd\u6578 ($f(x)=x^n , n$\u662f\u4e00\u500b\u5be6\u6578) <br>\n",
      "\u5229\u7528\u516c\u5f0f$(x^n-a^n)=(x-a)(x^{n-1}+x^{n-2}a+...+xa^{n-2}+a^{n-1})$,\u56e0\u6b64<br>\n",
      "$f'(a)=\\lim\\limits_{x\\to a} \\frac{f(x)-f(a)}{x-a} = \\lim\\limits_{x\\to a} \\frac{x^n-a^n}{x-a}=\\lim\\limits_{x\\to a} (x^{n-1}+x^{n-2}a+...+xa^{n-2}+a^{n-1}) $ <br>\n",
      "\u3000\u3000\u3000$=a^{n-1}+a^{n-2}a+...+aa^{n-2}+a^{n-1}=na^{n-1}$ <br>\n",
      "<font color='green'>    \n",
      "$\\Rightarrow \\frac{d}{dx} x^n = nx^{n-1}$<br><br>\n",
      "</font>\n",
      "(A3)\u81ea\u7136\u6307\u6578\u51fd\u6578 ($f(x)=e^x , e \u662f\u8b93 \\lim\\limits_{h \\to 0} \\frac{e^h -1}{h} =1 $\u7684\u5be6\u6578)<br>\n",
      "$f'(a)=\\lim\\limits_{h \\to 0} \\frac{e^{(x+h)} -e^x}{h} = \\lim\\limits_{h \\to 0} \\frac{e^x(e^h -1)}{h} = e^x \\cdot 1 = e^x$<br>\n",
      "<font color='green'>    \n",
      "$\\Rightarrow \\frac{d}{dx} e^x = e^x $<br><br>\n",
      "</font>\n",
      "(B1)\u51fd\u6578\u7684\u56db\u5247\u904b\u7b97\u7684\u5c0e\u6578<br>\n",
      "\u73fe\u5728\u5047\u8a2d$f(x)\u548cg(x)$\u662f\u5169\u500b\u5df2\u77e5\u7684\u51fd\u6578\u5247<br>\n",
      "(i)$\\frac{d}{dx} (f(x) + g(x))= \\frac{d}{dx} f(x) + \\frac{d}{dx} g(x)=f'+g'$<br>\n",
      "(ii)$\\frac{d}{dx} (f(x) - g(x))= \\frac{d}{dx} f(x) - \\frac{d}{dx} g(x)=f'-g'$<br>\n",
      "(iii)\u5982\u679cc\u662f\u5e38\u6578\uff0c<br>\n",
      "$\\frac{d}{dx} (c \\cdot f(x)) = c \\cdot \\frac{d}{dx} f(x) = cf'$<br>\n",
      "(iv)$\\frac{d}{dx} (f(x) \\cdot g(x))= \\frac{df(x)}{dx}  \\cdot g(x) + f(x) \\cdot \\frac{dg(x)}{dx}=f'g+fg'$<br>\n",
      "(v)\u5982\u679c$g(x) \\not = 0$ ,<br>\n",
      "$\\frac{d}{dx} (f(x) / g(x))= \\frac {\\frac{df(x)}{dx} \\cdot g(x) - \\frac{dg(x)}{dx} \\cdot f(x)} {[g(x)]^2}=\\frac{f'g-fg'}{g^2}$<br>\n",
      "\n",
      "\n",
      "<br>\n",
      "(A4)\u4e09\u89d2\u51fd\u6578 ($f(x)=sin(x)$ , $f(x)=cos(x)$) <br>\n",
      "\u5148\u8a08\u7b97\u6b63\u5f26\u548c\u9918\u5f26\u51fd\u6578\u7684\u5c0e\u6578\uff0c\u5176\u4ed6\u7684\u5c0e\u6578\u53ef\u4ee5\u7528\u9019\u5169\u8005\u505a\u51fa\u4f86<br>\n",
      "$f'(a)=\\lim\\limits_{h\\to 0} \\frac{f(a+h)-f(a)}{h}=\\lim\\limits_{h\\to 0} \\frac{sin(a+h)-sin(a)}{h}=\\lim\\limits_{h\\to 0} \\frac{sin(a)cos(h)+cos(a)sin(h)-sin(a)}{h}=\\lim\\limits_{h\\to 0} [{sin(a)(\\frac{cos(h)-1}{h})+cos(a) (\\frac{sin(h)}{h})}]$\n",
      "$=\\lim\\limits_{h\\to 0} sin(a) \\lim\\limits_{h\\to 0} (\\frac{cos(h)-1}{h}) + \\lim\\limits_{h\\to 0} cos(a) \\lim\\limits_{h\\to 0} (\\frac{sin(h)}{h})=sin(a) \\cdot 0 + cos(a) \\cdot 1=cos(a)$ <br>\n",
      "<font color='green'>\n",
      "$\\Rightarrow \\frac{d}{dx} sin(x)= cos (x)$<br>\n",
      "</font><br>\n",
      "\u540c\u6a23\u7684\u65b9\u6cd5\u53ef\u4ee5\u8b49\u660e:\n",
      "<font color='green'>\n",
      "$\\Rightarrow \\frac{d}{dx} cos(x)= -sin(x)$<br>\n",
      "</font><br>\n",
      "\u5229\u7528B1\u53ef\u5f97\u5230$tan(x)=\\frac{sin(x)} {cos(x)}$ \u7684\u5c0e\u6578<br>\n",
      "$\\frac{d}{dx} tan(x)= \\frac{sin'(x)\\cdot cos(x) - sin(x)cos'(x)}{[cos(x)]^2}=\\frac{sin^2(x)+cos^2(x)}{cos^2(x)}=sec^2(x)$<br>\n",
      "<font color='green'>\n",
      "$\\Rightarrow \\frac{d}{dx} tan(x)= sec^2(x)$<br>\n",
      "</font><br>\n",
      "\u5269\u9918\u4e09\u500b\u4e09\u89d2\u51fd\u6578\u4e5f\u53ef\u4ee5\u7528\u76f8\u540c\u7684\u65b9\u6cd5\u5f97\u5230\uff01\n",
      "<font color='green'>\n",
      "$\\Rightarrow \\frac{d}{dx} cot(x)= -csc^2(x)$<br>\n",
      "$\\Rightarrow \\frac{d}{dx} sec(x)= sec(x) \\cdot tan(x)$<br>\n",
      "$\\Rightarrow \\frac{d}{dx} csc(x)= -csc(x) \\cdot  cot(x)$<br>\n",
      "</font><br>\n"
     ]
    },
    {
     "cell_type": "markdown",
     "metadata": {},
     "source": [
      "(B2)\u9023\u9396\u6cd5\u5247(Chain Rule) <br>\n",
      "\u5047\u8a2d$y=f(u),u=g(x)$ \u662f\u5169\u500b\u53ef\u5fae\u5206\u7684\u51fd\u6578\uff0c\u5247$\\frac{d}{dx}y \\circ u (x) = \\frac{dy(u(x))}{dx}=\\frac{dy}{du} \\cdot \\frac{du}{dx}=\\frac{df(u)}{du} \\cdot \\frac {dg(x)}{dx}$<br><br>\n",
      "(A5)\u6307\u6578\u51fd\u6578 ($f(x)=a^x , a $\u662f\u4e00\u500b\u5be6\u6578)<br>\n",
      "\u5df2\u77e5$a^x = e^{x \\cdot ln(a)}$,\u5176\u4e2d$ln(a)$\u662f\u4e00\u500b\u5e38\u6578<br>\n",
      "\u5047\u8a2d$y=f(u)=e^u ,u=g(x)=x \\cdot ln(a)$\uff0c\u5247$y \\circ u (x) = y(u(x)=y(x\\cdot ln(a)) = e^{x \\cdot ln(a)}$ <br>\n",
      "\u7531\u9023\u9396\u6cd5\u5247\u5f97\u77e5$\\frac{d}{dx} y \\circ u (x) = \\frac{df(u)}{du} \\cdot \\frac {dg(x)}{dx}=\\frac{de^u}{du} \\cdot \\frac{d x \\cdot ln(a)}{dx}$<br>\n",
      "\u7531A3\u53caB1(iii)\u5f97\u77e5$\\frac{de^u}{du}=e^u , \\frac{d x \\cdot ln(a)}{dx}=ln(a) \\frac{dx}{dx}=ln(a)$ <br>\n",
      "\u5c07$u=x \\cdot ln(a)$\u4ee3\u5165\uff0c$e^u=e^{x \\cdot ln(a)} = a^x$ <br>\n",
      "<font color='green'>\n",
      "$\\Rightarrow \\frac{d}{dx} a^x= a^x \\cdot ln(a)$<br><br>\n",
      "</font>\n",
      "\n",
      "(B3)\u96b1\u5fae\u5206(Implicit Differentiation)<br>\n",
      "\u6709\u6642\u5019\u51fd\u6578$y$\u4e0d\u80fd\u55ae\u7d14\u8868\u793a\u70ba$x$\u7684\u5f62\u5f0f<br>\n",
      "\u800c\u662f\u7531\u4e00\u500b\u65b9\u7a0b\u5f0f\u5b9a\u7fa9\u51fa\u4f86\u7684 \uff0c\u4f8b\u5982$x^2+y^2=6xy$<br>\n",
      "$y$\u662f\u96b1\u85cf\u5728\u5176\u4e2d\u7684\u8b8a\u6578\uff0c\u6b64\u6642$y$\u7684\u8b8a\u5316\u7387\u53ef\u80fd\u4e0d\u6703\u53ea\u8ddf$x$\u6709\u95dc\u4fc2<br>\n",
      "\u6211\u5011\u53ef\u4ee5\u5229\u7528\u504f\u5fae\u5206(Partial Differential)\u7684\u6280\u5de7\u627e\u51fa$y$\u7684\u8b8a\u5316\u7387<br>\n",
      "\u4ee5\u4e0a\u5f0f\u70ba\u4f8b\uff0c\u540c\u6642\u5c0d\u5169\u908a\u53d6$\\frac{d}{dx} \\Rightarrow \\frac {d}{dx} (x^2+y^2) = \\frac{d}{dx} (6xy)$<br>\n",
      "\u63a5\u8457\u5229\u7528B1\u548cB2\uff0c\u53ef\u4ee5\u5f97\u5230$\\Rightarrow 2x+2y \\cdot y' = 6y+6xy'$<br>\n",
      "$y'$\u662f\u6211\u5011\u8981\u7684\uff0c\u7d93\u6574\u7406\u5f8c\u5f97 $y'=\\frac{6y-2x}{2y-6x}$<br>\n",
      "\u50cf\u9019\u7a2e\u627e\u51fa\u5c0e\u6578\u7684\u65b9\u6cd5\uff0c\u7a31\u4e4b\u70ba\u96b1\u5fae\u5206<br><br>\n",
      "(A6)\u5c0d\u6578\u51fd\u6578 ($f(x)=log_a(x) , a$\u662f\u4e00\u500b\u5be6\u6578) <br>\n",
      "\u4ee4$y=log_a(x)$\uff0c\u7531\u5c0d\u6578\u5b9a\u7fa9\u53ef\u77e5$a^y=x$<br>\n",
      "B3\u7684\u65b9\u6cd5\uff0c\u540c\u6642\u5c0d\u5169\u908a\u53d6$\\frac{d}{dx} \\Rightarrow \\frac{d}{dx} (a^y) = \\frac{d}{dx} (x)$<br>\n",
      "\u5229\u7528A5\u8207\u9023\u9396\u6cd5\u5247 $\\Rightarrow a^y \\cdot ln(a) \\cdot y' = 1 \\Rightarrow y'= \\frac{1}{a^y \\cdot ln(a)}$<br>\n",
      "\u4ee3\u5165$y=log_a(x)$ , $\\Rightarrow y' = \\frac{1}{x \\cdot ln(a)}$<br>\n",
      "\u4e5f\u5c31\u662f\u8aaa<br>\n",
      "<font color='green'>\n",
      "$\\Rightarrow \\frac{d}{dx} log_a(x)=  \\frac{1}{x \\cdot ln(a)}$<br><br>\n",
      "</font>\n",
      "(A7)\u53cd\u4e09\u89d2\u51fd\u6578<br>\n",
      "\u4e09\u89d2\u51fd\u6578\u662f\u7d66\u4f60\u4e00\u500b\u89d2\u5ea6\uff0c\u6c42\u51fd\u6578\u503c<br>\n",
      "\u53cd\u4e09\u89d2\u51fd\u6578\u662f\u7d66\u4f60\u4e00\u500b\u503c\uff0c\u6c42\u5176\u89d2\u5ea6<br>\n",
      "\u5047\u8a2d$sin , cos ... , csc$\u7684\u53cd\u51fd\u6578\u5206\u5225\u70ba $sin^{-1} , cos^{-1} , ... , csc^{-1}$<br>\n",
      "\u5047\u8a2d$f\u548cf^{-1}$\u4e92\u70ba\u53cd\u51fd\u6578\uff0c\u53cd\u51fd\u6578\u7684\u95dc\u4fc2\u53ef\u4ee5\u7528\u4e00\u500b\u7c21\u55ae\u7684\u5f0f\u5b50\u8868\u793a\uff1a<br>\n",
      "$f(f^{-1}(x))=f^{-1}(f(x))=x$<br>\n",
      "\u4e5f\u5c31\u662f\u8aaa$sin(sin^{-1} (x)) = sin^{-1}(sin(x))=x$<br>\n",
      "\u6211\u5011\u53ef\u4ee5\u5229\u7528\u9019\u500b\u95dc\u4fc2\u5f0f\u4f86\u8a08\u7b97\u53cd\u4e09\u89d2\u51fd\u6578\u7684\u5c0e\u6578<br>\n",
      "\u8209\u4f8b\u4f86\u8aaa,$y=f(x)=cot^{-1}(x)$ <br>\n",
      "\u5169\u908a\u540c\u6642\u53d6$cot \\Rightarrow cot(y) = cot(cot^{-1}(x)) = x$<br>\n",
      "\u4e00\u500b\u89d2\u5ea6\u70ba$y$\u76f4\u89d2\u4e09\u89d2\u5f62\uff0c\u5176$cot$\u7684\u503c\u662f$x=\\frac{x}{1}$\uff0c\u53ef\u5f97\u77e5\u5176\u5c0d\u908a\u70ba$1$ , \u9130\u908a\u70ba$x$ , \u659c\u908a\u70ba$(1+x^2)^{\\frac{1}{2}}$<br>\n",
      "\u4e5f\u5c31\u662f\u8aaa, $csc(x)=\\frac{(1+x^2)^{\\frac{1}{2}}}{1}=(1+x^2)^{\\frac{1}{2}}$<br>\n",
      "\u73fe\u5728\u5169\u908a\u540c\u6642\u53d6$\\frac{d}{dx} \\Rightarrow \\frac{d}{dx} (cot(y)) = \\frac{d}{dx} (x) = 1 $<br>\n",
      "\u7531A4\u53ef\u77e5$\\Rightarrow -csc^2(y) \\cdot y'=1 \\Rightarrow y' = - \\frac{1}{1+x^2}$<br>\n",
      "<font color='green'>\n",
      "$\\Rightarrow \\frac{d}{dx} cot^{-1}(x)=  - \\frac{1}{1+x^2} $<br><br>\n",
      "</font>"
     ]
    },
    {
     "cell_type": "markdown",
     "metadata": {},
     "source": [
      "#\u5ef6\u4f38\u554f\u984c\uff01\n",
      "\u5982\u679cB1(iv)\u548cB2\u4e0d\u53ea\u5169\u500b\u51fd\u6578\u600e\u9ebc\u8fa6\uff1f<br>\n",
      "\u5047\u8a2d$g_1,g_2,...,g_k$\u662fk\u500b\u53ef\u5fae\u5206\u7684\u51fd\u6578\uff0c\u5247<br>\n",
      "$\\frac{d}{dx}( g_1(x) \\cdot g_2(x) \\cdot ... \\cdot g_k(x) )=[g_1'(x)g_2(x)...g_k(x)]+[g_1(x)g_2'(x)...g_k(x)]+...+[g_1(x)g_2(x)...g_k'(x)]$<br>\n",
      "$\\frac{d}{dx}( g_1 \\circ g_2 \\circ ... \\circ g_k (x))=[g_1'(g_2 \\circ g_3 \\circ ... \\circ g_k(x))] \\cdot [g_2'(g_3 \\circ ... \\circ g_k(x))] \\cdot ... \\cdot [g_{k-1}'(g_k(x))] \\cdot [g_k'(x)]$<br><br>\n",
      "\u8209\u4f8b\u4f86\u8aaa\uff1a $f(x)=[ln(sinx)]^{\\frac{1}{2}}$<br>\n",
      "\u6211\u5011\u53ef\u4ee5\u5c07$f(x)$\u8996\u70ba\u4e09\u500b\u51fd\u6578$g_1(x)=x^{\\frac{1}{2}} , g_2(x)=ln(x) , g_3(x)=sin(x)$\u7684\u5408\u6210\u51fd\u6578<br>\n",
      "\u4e5f\u5c31\u662f\u8aaa $f(x)=g_1 \\circ g_2 \\circ g_3 (x) $  <br>\n",
      "\u7531\u524d\u9762\u8a0e\u8ad6\u53ef\u77e5 $g_1'(x)=\\frac{1}{2} x^{-\\frac{1}{2}} , g_2'(x)=\\frac{1}{x} ,g_3'(x) = cos(x) $ ,\u56e0\u6b64<br>\n",
      "$\\frac{d}{dx} f(x) = \\frac{d}{dx}( g_1\\circ g_2 \\circ g_3 (x))=[g_1'(g_2 \\circ g_3(x) ))] \\cdot [g_2'(g_3(x))] \\cdot [g_3'(x)]$<br>\n",
      "$\\Rightarrow \\frac{d}{dx} f(x) = g_1'( ln(sin(x)) ) \\cdot g_2'( sin(x) ) \\cdot g_3'(x)=\\frac{1}{2} (ln(sin(x))^{-\\frac{1}{2}} \\cdot \\frac{1}{sin(x)} \\cdot cos(x)$<br>"
     ]
    },
    {
     "cell_type": "code",
     "collapsed": false,
     "input": [],
     "language": "python",
     "metadata": {},
     "outputs": []
    }
   ],
   "metadata": {}
  }
 ]
}