{
 "metadata": {
  "name": ""
 },
 "nbformat": 3,
 "nbformat_minor": 0,
 "worksheets": [
  {
   "cells": [
    {
     "cell_type": "heading",
     "level": 1,
     "metadata": {},
     "source": [
      "Calculus Ch.9.2~9.4\u3000\u3000\u3000\u3000\u3000\u3000\u3000\u3000\u3000\u3000\u3000Date:2015/04/10"
     ]
    },
    {
     "cell_type": "heading",
     "level": 2,
     "metadata": {},
     "source": [
      "<font color='red'>\n",
      "    Section 9.2 Direction Fields and Euler's Method\n",
      "</font>"
     ]
    },
    {
     "cell_type": "heading",
     "level": 3,
     "metadata": {},
     "source": [
      "<font color='blue'>Direction Fields(\u65b9\u5411\u5834) <br></font>\n",
      "\u85c9\u7531\u4e00\u968e\u5e38\u5fae\u5206\u65b9\u7a0b $y'=F(x,y)$ \uff0c\u5c07\u5ea7\u6a19\u4ee3\u5165$F(x,y)$\u53ef\u4ee5\u77e5\u9053\u5716\u5f62\u6bcf\u4e00\u500b\u9ede\u7684\u659c\u7387\uff0c\u5c07\u6bcf\u4e00\u9ede\u659c\u7387\u90fd\u756b\u51fa\u4f86\uff0c\u5373\u53ef\u7531\u6b64\u770b\u51fa\u66f2\u7dda\u7684\u8da8\u52e2\u4e26\u756b\u51fa\u5716\u5f62\u3002(\u53ef\u4ee5\u770b\u8ab2\u672c\u5716\u5f62\uff01)"
     ]
    },
    {
     "cell_type": "heading",
     "level": 3,
     "metadata": {},
     "source": [
      "<font color='blue'>Euler's Method <br></font>\n",
      "\u5c24\u62c9\u6cd5\u7684\u60f3\u6cd5\u5c31\u662flinearly approximation(\u7dda\u6027\u903c\u8fd1)<br>\n",
      "\u5047\u8a2d\u4f60\u73fe\u5728\u5df2\u77e5\u8a72\u51fd\u6578\u7684\u659c\u7387\u70ba$y'=F(x,y)$<br>\n",
      "\u4ee5\u53ca\u4e00\u500b\u8d77\u9ede$P_0=(x_0,y_0)$<br>\n",
      "\u73fe\u5728\u4efb\u9078\u4e00\u500bstep size(\u6b65\u9a5f\u9593\u8ddd) $\\Delta x$<br>\n",
      "\u5247\u7dda\u6027\u903c\u8fd1\u544a\u8a34\u4f60\u4e0b\u4e00\u500b\u9ede$P_1=(x_1,y_1)$\u7d04\u7565\u70ba<br>\n",
      "$x_1=x_0+\\Delta x , y_1=y_0+\\Delta x F(x_0,y_0)$"
     ]
    },
    {
     "cell_type": "heading",
     "level": 3,
     "metadata": {},
     "source": [
      "<font color='red'>\n",
      "    9.2 Problem22: Use Euler's method with step size 0.2 to estimate y(1), where y(x) is the solution of the initial-value problem y'=1-xy,y(0)=0<br> </font>\n",
      "<font color='blue'>\n",
      "Sol:<br>\n",
      "\u73fe\u5728$P_0=(x_0,y_0)=(0,0),\\Delta x = 0.2$<br>\n",
      "\u56e0\u6b64$P_1=(x_1,y_1)=(x_0+\\Delta x , y_0+\\Delta x F(x_0,y_0))=(0.2,0.2 \\cdot (1-0))=(0.2,0.2)$<br>\n",
      "$y_2= y_1+\\Delta x F(x_1,y_1)=0.2+0.2 \\cdot (1-0.04)=0.392$<br>\n",
      "$y_2= y_2+\\Delta x F(x_2,y_2)=0.392+0.2 \\cdot (1-0.1568)=0.56064$<br>\n",
      "$y_2= y_3+\\Delta x F(x_3,y_3)=0.56064+0.2 \\cdot (1-0.336384)=0.6933632$<br>\n",
      "$y_2= y_4+\\Delta x F(x_4,y_4)=0.6933632+0.2 \\cdot (1-0.55469056)=0.782425088$<br>\n",
      "$P_2=(x_2,y_2)=(0.4,0.392)$<br>\n",
      "$P_3=(x_3,y_3)=(0.6,0.56064)$<br>\n",
      "$P_4=(x_4,y_4)=(0.8,0.6933632)$<br>\n",
      "$P_5=(x_5,y_5)=(1,0.782425088)$<br>\n",
      "<br>\n",
      "\u4f46\u5982\u679cstep size\u53d61\uff0c\u6211\u5011\u53ea\u9700\u8981\u4e00\u6b65\u5c31\u53ef\u4ee5\u7b97\u51fa$y(1)$<br>\n",
      "$y_1=y_0+\\Delta x F(x_0,y_0)=0+1 \\cdot (1-0)=1$ <br>\n",
      "\u4e0d\u904e\u96e2\u771f\u5be6\u7684\u7b54\u6848\u76f8\u53bb\u751a\u9060......\n",
      "</font>"
     ]
    },
    {
     "cell_type": "heading",
     "level": 2,
     "metadata": {},
     "source": [
      "<font color='red'>\n",
      "    Section 9.3 Separable Equations(\u53ef\u5206\u96e2\u7684\u65b9\u7a0b\u5f0f)\n",
      "</font>"
     ]
    },
    {
     "cell_type": "heading",
     "level": 3,
     "metadata": {},
     "source": [
      "\u5f62\u5982$\\frac{dy}{dx} = \\frac{g(x)}{f(y)}$\u7a31\u70baSeparable Equations<br>\n",
      "\u56e0\u70ba\u4ed6\u53ef\u79fb\u9805\u70ba$f(y)dy=g(x)dx$\uff0c\u53ef\u4ee5\u5c07x\u7684\u9805\u548cy\u7684\u9805\u5206\u6210\u5169\u908a\u3002<br>\n",
      "\u5169\u908a\u540c\u6642\u53d6\u7a4d\u5206$\\int f(y)dy =\\int g(x)dx$<br>\n",
      "\u5982\u679c$f$\u8ddf$g$\u90fd\u662f\u53ef\u7a4d\u5206\u7684\u65b9\u7a0b\u5f0f\uff0c\u4f9d\u64da\u7a4d\u5206\u57fa\u672c\u5b9a\u7406<br>\n",
      "\u5b58\u5728$F(y)=\\int f(y)dy$\u548c$G(x)=\\int g(x)dx$\u4f7f\u5f97$F(y)=G(x)+C$<br>\n",
      "\u56e0\u6b64\u53ef\u5f97\u5230$y$\u7684\u89e3\uff0c\u4f46\u5e38\u6578$C$\u672a\u77e5<br>\n",
      "\u6211\u5011\u9700\u8981\u8d77\u59cb\u689d\u4ef6(initial condition)\u624d\u53ef\u4ee5\u78ba\u5b9a$C$\u7684\u503c"
     ]
    },
    {
     "cell_type": "heading",
     "level": 3,
     "metadata": {},
     "source": [
      "<font color='red'>\n",
      "    9.3 Problem15: \u5df2\u77e5$x \\cdot ln(x)=y(1+\\sqrt{3+y^2})y',y(1)=1$\uff0c\u6c42$y$\u4e4b\u89e3<br> </font>\n",
      "<font color='blue'>\n",
      "Sol:<br>\n",
      "    \u5c07$y'=\\frac{dy}{dx}$\uff0c\u4ee3\u5165\u539f\u5f0f\u4e26\u79fb\u9805\u53ef\u5f97$x \\cdot ln(x) dx=y(1+\\sqrt{3+y^2})dy$<br>\n",
      "    \u53ef\u770b\u51fa\u8a72\u65b9\u7a0b\u5f0f\u662fSeparable Equations<br>\n",
      "    \u63a5\u8457\u5169\u908a\u540c\u6642\u53d6\u7a4d\u5206\u53ef\u5f97$\\int x \\cdot ln(x) dx=\\int y(1+\\sqrt{3+y^2})dy=\\int (y+y\\sqrt{3+y^2})dy$<br>\n",
      "    $x$\u7684\u90e8\u4efd\u4f7f\u7528\u5206\u90e8\u7a4d\u5206\u4ee4$u=ln(x),dv=xdx \\Rightarrow du=\\frac{1}{x}dx,v=\\frac{x^2}{2}$<br>\n",
      "    $y$\u7684\u90e8\u4efd\u62c6\u6210$\\int ydy+ \\int y\\sqrt{3+y^2}dy$<br>\n",
      "    \u4e26\u4f7f\u7528$w=3+y^2,dw=2ydy$<br>\n",
      "    <br>\n",
      "    \u56e0\u6b64$\\int x \\cdot ln(x) dx=\\int ydy+ \\int y\\sqrt{3+y^2}dy \\Rightarrow \\frac{x^2}{2} ln(x)-\\int \\frac{1}{2}xdx = \\frac{y^2}{2}+\\frac{1}{3}(3+y^2)^{\\frac{3}{2}}$<br>\n",
      "    \u6700\u5f8c\u5f97\u5230$\\frac{x^2}{2} ln(x)-\\frac{1}{4}x^2+C = \\frac{y^2}{2}+\\frac{1}{3}(3+y^2)^{\\frac{3}{2}}$<br>\n",
      "    \u6b64\u6642\u9700\u8981\u5e36\u5165\u8d77\u59cb\u689d\u4ef6$y(1)=1$\uff0c\u56e0\u6b64$0-\\frac{1}{4}+C=\\frac{1}{2}+\\frac{1}{3} 8 \\Rightarrow C=\\frac{41}{12}$<br>\n",
      "    \u6240\u4ee5\u89e3\u70ba$\\frac{x^2}{2} ln(x)-\\frac{1}{4}x^2+\\frac{41}{12} = \\frac{y^2}{2}+\\frac{1}{3}(3+y^2)^{\\frac{3}{2}}$\n",
      "</font>"
     ]
    },
    {
     "cell_type": "heading",
     "level": 2,
     "metadata": {},
     "source": [
      "<font color='red'>\n",
      "    Section 9.4 Models for Population Growth\n",
      "</font>\n"
     ]
    },
    {
     "cell_type": "heading",
     "level": 3,
     "metadata": {},
     "source": [
      "\u6578\u5b78\u5efa\u6a21(Model)\u662f\u5148\u89c0\u5bdf\u5230\u73fe\u8c61\uff0c\u800c\u5f8c\u5206\u6790\u5f97\u5230\u9810\u4f30\u7684\u7d50\u679c\u3002<br>\n",
      "\u6709\u4e00\u500b\u7c21\u55ae\u7684\u4f8b\u5b50\u662fPopulation Growth(\u4eba\u53e3\u6210\u9577)\u7684\u554f\u984c<br>\n",
      "\n",
      "\u9996\u5148\u5047\u8a2d$P$:\u4eba\u53e3\u6578,$t$:\u6642\u9593,$k$:\u5e38\u6578<br>\n",
      "\u7531\u89c0\u5bdf\u5f97\u77e5\u4eba\u53e3\u6108\u591a\u6210\u9577\u7387\u6108\u9ad8\uff0c\u56e0\u6b64$\\frac{dP}{dt}=kP$<br>\n",
      "\n"
     ]
    },
    {
     "cell_type": "code",
     "collapsed": false,
     "input": [],
     "language": "python",
     "metadata": {},
     "outputs": []
    }
   ],
   "metadata": {}
  }
 ]
}