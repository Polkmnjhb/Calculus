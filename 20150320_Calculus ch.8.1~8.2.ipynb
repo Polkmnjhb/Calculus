{
 "metadata": {
  "name": ""
 },
 "nbformat": 3,
 "nbformat_minor": 0,
 "worksheets": [
  {
   "cells": [
    {
     "cell_type": "heading",
     "level": 1,
     "metadata": {},
     "source": [
      "Calculus Ch.8.1~8.2\u3000\u3000\u3000\u3000\u3000\u3000\u3000\u3000\u3000\u3000\u3000Date:2015/03/20"
     ]
    },
    {
     "cell_type": "heading",
     "level": 2,
     "metadata": {},
     "source": [
      "<font color='red'>\n",
      "    Section 8.1 Arc Length (\u5f27\u9577)\n",
      "</font>"
     ]
    },
    {
     "cell_type": "heading",
     "level": 3,
     "metadata": {},
     "source": [
      "\u76f4\u7dda\u7684\u9577\u5ea6\u975e\u5e38\u597d\u8a08\u7b97\uff0c\u62ff\u628a\u5c3a\u91cf\u4e00\u91cf\u5c31\u597d\u4e86<br>\n",
      "\u5047\u5982\u6211\u5011\u4eca\u5929\u8981\u7b97\u7684\u662f\u66f2\u7dda$f(x)$\u7684\u9577\u5ea6\u600e\u9ebc\u8fa6\uff1f<br>\n",
      "\u8acb\u53c3\u8003\u8ab2\u672c8.1\u7ae0\u4e2d\u7684\u5716\u5f62<br>\n",
      "\u6211\u5011\u628a\u66f2\u7dda\u6bcf\u4e00\u500b\u9593\u9694($\\Delta x$)\u5c31\u53d6\u4e00\u500b\u9ede\uff0c\u5206\u5225\u53d6\u540d$P_1,P_2,...,P_n$<br>\n",
      "\u5c07$P_1,P_2$\u9023\u7dda\u505a\u51fa$|\\overline {P_1P_2}|$<br>\n",
      "\u5c07$P_2,P_3$\u9023\u7dda\u505a\u51fa$|\\overline {P_2P_3}|$<br>\n",
      "...<br>\n",
      "\u5c07$P_{n-1},P_n$\u9023\u7dda\u505a\u51fa$|\\overline {P_{n-1}P_n}|$<br>\n",
      "\u90a3\u5f27\u9577\u5927\u7d04\u5c31\u662f\u9019n\u689d\u7dda\u7684\u9577\u5ea6\u76f8\u52a0\uff0c\u4e5f\u5c31\u662f\u8aaa<br>\n",
      "ArcLength $\\approx \\Sigma |\\overline {P_{i-1}P_i}|$ , $i=0,1,2,...,n$<br>\n",
      "\u6bcf\u4e00\u689d\u7dda\u7684\u9577\u5ea6\u53ef\u4ee5\u7528\u7562\u5f0f\u5b9a\u7406\u7b97\u51fa<br>\n",
      "$|\\overline {P_{i-1}P_i}|=\\sqrt { (\\Delta x)^2+ (\\Delta y)^2 } $<br>\n",
      "\u6b64\u6642\u4f7f\u7528\u5747\u503c\u5b9a\u7406<br>\n",
      "\u5b58\u5728$x_{i-1} \\leq x_i^\\star \\leq x_i$\u4f7f\u5f97$ f'(c)=\\frac{f(x_i)-f(x_{i-1}) }{x_i-x_{i-1}}=\\frac{\\Delta y}{\\Delta x} \\Rightarrow \\Delta y =f'(x_i^\\star) \\cdot \\Delta x$<br>\n",
      "$|\\overline {P_{i-1}P_i}|=\\sqrt { (\\Delta x)^2+ (f'(x_i^\\star)) \\cdot \\Delta x )^2}=\\Delta x \\sqrt{1+(f'(x_i^\\star))^2}$<br>\n",
      "Arc Length $\\approx \\Sigma \\Delta x \\sqrt{1+(f'(x_i^\\star))^2}$ <br>\n",
      "\u5982\u679c\u6211\u5011\u8b93\u9593\u9694($\\Delta x$)\u8da8\u8fd1\u65bc\u7121\u9650\u5c0f\uff0c\u90a3\u7b49\u865f\u5c31\u6210\u7acb\u4e86\uff0c$\\Sigma f \\Delta x$\u5247\u8b8a\u6210$\\int f dx$<br>\n",
      "\u56e0\u6b64Arc Length $=\\int_a^b  \\sqrt{1+(f'(x))^2} dx =\\int_a^b  \\sqrt{1+(\\frac{dy}{dx})^2} dx   $<br><br>\n",
      "\n",
      "\u5982\u679c\u4eca\u5929\u8981\u7b97\u7684\u66f2\u7dda\u662f$g(y)$\u7684\u5f62\u5f0f\uff0c\u540c\u6a23\u53ef\u4ee5\u5f97\u5230<br>\n",
      "Arc Length $=\\int_c^d  \\sqrt{1+(g'(y))^2} dy =\\int_a^b  \\sqrt{1+(\\frac{dg}{dy})^2} dy   $\n"
     ]
    },
    {
     "cell_type": "heading",
     "level": 2,
     "metadata": {},
     "source": [
      "<font color='red'>\n",
      "    Section 8.2 Area of Surface of Revolution\n",
      "</font>"
     ]
    },
    {
     "cell_type": "heading",
     "level": 3,
     "metadata": {},
     "source": [
      "\u985e\u4f3c\u65bc\u5713\u76e4\u6cd5\uff0c\u5c07\u65cb\u8f49\u51fa\u7684\u8868\u9762\u5207\u6210n\u7b49\u4efd($x_0,x_1,...,x_n$)<br>\n",
      "$x_{i-1}$\u5230$x_i$\u5f35\u51fa\u7684\u9762\u7a4d\u53ef\u4ee5\u770b\u6210\u662f(\u5713\u5468\u9577)\u4e58\u4e0a(\u5f27\u9577)\uff0c\u4e5f\u5c31\u662f\u8aaa<br>\n",
      "$\u6bcf\u4e00\u6bb5\u8868\u9762\u7a4d=(\u5713\u5468\u9577) \\cdot (\u5f27\u9577)=(2\\pi r) \\cdot (|\\overline{P_{i-1}P_i}|) = 2\\pi (\\frac{y_{i-1}+{y_i}}{2}) |\\overline{P_{i-1}P_i}|$<br>\n",
      "$\u7e3d\u8868\u9762\u7a4d \\approx \\Sigma  2\\pi f(x_i^\\star) \\cdot \\sqrt{1+(f'(x_i^\\star))^2} \\Delta x$<br>\n",
      "\u5982\u679c\u6211\u5011\u8b93\u9593\u9694(\\Delta x)\u8da8\u8fd1\u65bc\u7121\u9650\u5c0f\uff0c\u90a3\u7b49\u865f\u5c31\u6210\u7acb\u4e86\uff0c$\\Sigma f \\Delta x$\u5247\u8b8a\u6210$\\int f dx$<br>\n",
      "\u56e0\u6b64$Surface Area =SA = \\int_a^b 2\\pi f(x) \\sqrt{1+(f'(x))^2} dx$ "
     ]
    }
   ],
   "metadata": {}
  }
 ]
}