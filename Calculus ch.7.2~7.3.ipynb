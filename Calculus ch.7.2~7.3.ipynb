{
 "metadata": {
  "name": ""
 },
 "nbformat": 3,
 "nbformat_minor": 0,
 "worksheets": [
  {
   "cells": [
    {
     "cell_type": "heading",
     "level": 1,
     "metadata": {},
     "source": [
      "Calculus Ch.7.2~7.3\u3000\u3000\u3000\u3000\u3000\u3000\u3000\u3000\u3000\u3000\u3000Date:2015/03/06"
     ]
    },
    {
     "cell_type": "heading",
     "level": 3,
     "metadata": {},
     "source": [
      "\u3000\u3000\u7b2c\u4e03\u7ae0\u4e3b\u8981\u662f\u8b1b\u8ff0\u4e00\u4e9b\u7a4d\u5206\u6642\u7684\u6280\u5de7\uff0c\u7576\u4f60\u9047\u5230\u6bd4\u8f03\u8907\u96dc\u7684\u7a4d\u5206\u5f0f\u6642\uff0c\u53ef\u4ee5\u5229\u7528\u672c\u7ae0\u6240\u4ecb\u7d39\u7684\u65b9\u6cd5\u7c21\u5316\u554f\u984c\u3002"
     ]
    },
    {
     "cell_type": "heading",
     "level": 2,
     "metadata": {},
     "source": [
      "<font color='red'>\n",
      "Section 7.2 Trigonometric Integrals\n",
      "</font>"
     ]
    },
    {
     "cell_type": "heading",
     "level": 3,
     "metadata": {},
     "source": [
      "\u3000\u30007.2\u7bc0\u4ecb\u7d39\u4e09\u89d2\u51fd\u6578\u7684\u7a4d\u5206\uff0c\u7576\u4f60\u78b0\u5230\u7a4d\u5206\u5f0f\u5b50\u4e2d\u542b\u6709\u4e09\u89d2\u51fd\u6578\u7684\u6642\u5019\u8a72\u600e\u9ebc\u8fa6\u5462\uff0c\u8b80\u8005\u53ef\u4ee5\u5617\u8a66\u4f7f\u7528\u4e0b\u5217\u4e09\u7a2e\u65b9\u6cd5\u3002<br>\n",
      "<font color='blue'>\n",
      "Method1:\u8b8a\u6578\u8b8a\u63db\u6cd5<br>\n",
      "Method2:\u4e09\u89d2\u51fd\u6578\u95dc\u4fc2<br>\n",
      "Method3:\u5206\u90e8\u7a4d\u5206\n",
      "</font>"
     ]
    },
    {
     "cell_type": "heading",
     "level": 2,
     "metadata": {},
     "source": [
      "<font color='blue'>\n",
      "Method1:\u8b8a\u6578\u8b8a\u63db\u6cd5\n",
      "</font>"
     ]
    },
    {
     "cell_type": "heading",
     "level": 3,
     "metadata": {},
     "source": [
      "\u3000\u3000\u4e00\u500b\u6a19\u6e96\u7684\u7a4d\u5206\u53ef\u4ee5\u7528\u3000$\\int_a^b f(x) dx $\u3000\u8868\u793a\uff0c\u73fe\u5728\u6211\u5011\u5982\u4f55\u8b93\u7a4d\u5206\u8b8a\u5f97\u7c21\u55ae\u5462\uff1f<br>\n",
      "\u56e0\u70ba$g'(x) = \\frac{d}{dx} g(x) = \\frac{dg(x)}{dx} \\Rightarrow dg(x)=g'(x) \\cdot dx$<br>\n",
      "\u5982\u679c\u6211\u5011\u53ef\u4ee5\u627e\u5230\u4e00\u500b\u51fd\u6578$g(x)$\u4f7f\u5f97$f(x)=g(x) \\cdot g'(x)$<br>\n",
      "\u7a4d\u5206\u5f0f\u5b50\u53ef\u4ee5\u5beb\u4f5c\u3000$\\int_a^b f(x) dx =\\int_a^b g(x) \\cdot g'(x) \\cdot dx$<br>\n",
      "\u9019\u6642\u5019\u6ce8\u610f\u4f60\u7684\u7a4d\u5206\u5340\u57df\uff0c\u7576\u4f60\u5c0d$x$\u7a4d\u5206\u6642\u5340\u57df\u70ba$[a,b]$\uff0c\u4f46\u662f\u7576\u4f60\u5c0d$g(x)$\u7a4d\u5206\u6642\u5340\u57df\u6703\u6539\u8b8a\u70ba$[g(a),g(b)]$<br>\n",
      "\u56e0\u6b64$\\int_a^b f(x) dx =\\int_a^b g(x) \\cdot g'(x) \\cdot dx = \\int_{g(a)}^{g(b)} g(x) \\cdot dg(x)$<br><br>\n",
      "\u3000\u3000\u770b\u5e95\u4e0b\u7684\u4f8b\u5b50\uff0c\u4f60\u6703\u6bd4\u8f03\u6e05\u695a\u8b8a\u6578\u8b8a\u63db\u5982\u4f55\u8b93\u7a4d\u5206\u8b8a\u5f97\u7c21\u55ae\u3002\n",
      "\u3000\u3000"
     ]
    },
    {
     "cell_type": "heading",
     "level": 3,
     "metadata": {},
     "source": [
      "<font color='blue'>\n",
      "    Example: Calculate $\\int_0^1 (2x^3+2x) \\cdot dx$\n",
      "</font><br>\n",
      "Sol:\u9996\u5148\u5462\uff0c\u4ee4 $f(x)=(2x^3+2x)=2x(x^2+1)$ <br>\n",
      "\u9019\u7a2e\u62c6\u89e3\u662f\u4e00\u4ef6\u597d\u4e8b\uff01\u56e0\u70ba\u5982\u679c\u6211\u5011\u5047\u8a2d$g(x)=x^2+1$ <br>\n",
      "\u53ef\u4ee5\u99ac\u4e0a\u5f97\u5230$g'(x)=2x$ \uff0c\u800c\u4e14$f(x)=g(x) \\cdot g'(x)$<br>\n",
      "\u7136\u5f8c\u8a18\u5f97\u7a4d\u5206\u7684\u5340\u57df\u8981\u8ddf\u8457\u505a\u6539\u8b8a<br>\n",
      "\u56e0\u70ba$g(0)=1 , g(1)=2$ \uff0c\u7a4d\u5206\u5340\u57df\u5f9e$[0,1]$\u8dd1\u5230$[g(0),g(1)]=[1,2]$<br><br>\n",
      "\n",
      "\u6700\u5f8c\uff0c\u6211\u5011\u628a\u6574\u500b\u60f3\u6cd5\u91cd\u5beb\u4e00\u6b21<br>\n",
      "let $u=x^2+1$<br>\n",
      " $\\int_0^1 (2x^3+2x) \\cdot dx=\\int_0^1 (x^2+1)2x \\cdot dx = \\int_0^1 u \\cdot u' dx = \\int_1^2 u du$<br>\n",
      "\u9019\u6642\u5019\u5c31\u5f88\u597d\u505a\u4e86\uff0c$u$\u5c0d$u$\u7684\u53cd\u5c0e\u51fd\u6578\u70ba$\\frac{u^2}{2}$<br>\n",
      "\u56e0\u6b64$\\int_0^1 (2x^3+2x) \\cdot dx = (\\frac{u^2}{2}) | _1^2= \\frac{4}{2} - \\frac{1}{2}=\\frac{3}{2}$"
     ]
    },
    {
     "cell_type": "heading",
     "level": 2,
     "metadata": {},
     "source": [
      "<font color='blue'>\n",
      "Method2:\u4e09\u89d2\u51fd\u6578\u95dc\u4fc2\n",
      "</font>"
     ]
    },
    {
     "cell_type": "heading",
     "level": 3,
     "metadata": {},
     "source": [
      "\u3000\u3000\u9019\u500b\u65b9\u6cd5\u7684\u76ee\u6a19\u5462\uff0c\u662f\u5229\u7528\u548c\u89d2\u3001\u500d\u89d2\u3001\u534a\u89d2\u3001\u548c\u5dee\u5316\u7a4d\u3001\u7a4d\u5316\u548c\u5dee\u3001\u8207\u4e09\u89d2\u51fd\u6578\u95dc\u4fc2\uff0c\u5c07\u51fd\u6578\u5316\u70ba\u53ea\u6709$\\sin(x)$ \u6216 $\\cos(x)$\u7684\u5f62\u5f0f\u3002\u53ef\u80fd\u6703\u7528\u5230\u7684\u95dc\u4fc2\u5982\u4e0b\uff1a<br>\n",
      "<font color='red'>\n",
      "(1)\u548c\u89d2\u516c\u5f0f<br>\n",
      "$\\sin(A \\pm B)=\\sin(A)\\cos(B) \\pm \\sin(B)\\cos(A)$<br>\n",
      "$\\cos(A \\pm B)=\\cos(A)\\cos(B) \\mp \\sin(A)\\sin(B)$<br>\n",
      "(2)\u500d\u89d2\u516c\u5f0f<br>\n",
      "$\\sin(2A)=2\\sin(A) \\cos(A)$<br>\n",
      "$\\cos(2A)=\\cos^2(A) - \\sin^2(A) = 1-2\\sin^2 (A) = 2\\cos^2(A)-1$<br>\n",
      "(3)\u534a\u89d2\u516c\u5f0f<br>\n",
      "$cos(\\frac{A}{2})=\\pm \\sqrt \\frac{cos(A)+1}{2}$<br>\n",
      "$sin(\\frac{A}{2})=\\pm \\sqrt \\frac{1-cos(A)}{2}$<br>\n",
      "(4)\u548c\u5dee\u5316\u7a4d<br>\n",
      "$\\sin(A) + \\sin(B) = 2\\sin(\\frac{A+B}{2}) \\cos(\\frac{A-B}{2})$<br>\n",
      "$\\sin(A) - \\sin(B) = 2\\cos(\\frac{A+B}{2}) \\sin(\\frac{A-B}{2})$<br>\n",
      "$\\cos(A) + \\cos(B) = 2\\cos(\\frac{A+B}{2}) \\cos(\\frac{A-B}{2})$<br>\n",
      "$\\cos(A) - \\cos(B) = -2\\sin(\\frac{A+B}{2}) \\sin(\\frac{A-B}{2})$<br>\n",
      "(5)\u4e09\u89d2\u51fd\u6578\u95dc\u4fc2<br>\n",
      "$\\sin^2(A) +\\cos^2(A) =1$<br>\n",
      "$1+\\tan^2(A)=\\sec^2(A)$<br>\n",
      "$1+\\cot^2(A)=\\csc^2(A)$<br>\n",
      "$\\frac{d}{dx} \\sin(x) = \\cos(x)$<br>\n",
      "$\\frac{d}{dx} \\cos(x) = -\\sin(x)$<br>\n",
      "$\\frac{d}{dx} \\tan(x) = \\sec^2(x)$<br>\n",
      "$\\frac{d}{dx} \\cot(x) = -\\csc^2(x)$<br>\n",
      "$\\frac{d}{dx} \\sec(x) = \\tan(x) \\sec(x)$<br>\n",
      "$\\frac{d}{dx} \\csc(x) =- \\cot(x) \\csc(x)$\n",
      "</font>"
     ]
    },
    {
     "cell_type": "heading",
     "level": 2,
     "metadata": {},
     "source": [
      "<font color='blue'>\n",
      "Method3:\u5206\u90e8\u7a4d\u5206(Integration by parts or I.B.P.)\n",
      "</font>"
     ]
    },
    {
     "cell_type": "heading",
     "level": 3,
     "metadata": {},
     "source": [
      "\u3000\u3000\u5206\u90e8\u7a4d\u5206\u7684\u7531\u4f86\uff0c\u5c31\u662f\u6211\u5011\u4ee5\u524d\u5fae\u5206\u6642\u5b78\u5230\u7684product rule\u3002<br>\n",
      "product rule: $\\frac{d}{dx} (f(x) \\cdot g(x)) = (\\frac{d}{dx}f(x)) \\cdot g(x) + f(x) \\cdot (\\frac{d}{dx} g(x))$<br>\n",
      "\u73fe\u5728\u540c\u6642\u5c0d\u5169\u908a\u53d6x\u7684\u7a4d\u5206\uff0c\u7a4d\u5206\u7bc4\u570d\u662f$[a,b]$<br>\n",
      "$\\Rightarrow (f(x) \\cdot g(x))|_a^b = \\int_a^b (\\frac{d}{dx}f(x)) \\cdot g(x) dx + \\int_a^b f(x) \\cdot (\\frac{d}{dx} g(x))dx $<br>\n",
      "$\\Rightarrow (f(x) \\cdot g(x))|_a^b = \\int_a^b  g(x) df(x) + \\int_a^b f(x) dg(x) $<br>\n",
      "$\\Rightarrow  \\int_a^b f(x) dg(x)  =  (f(x) \\cdot g(x))|_a^b -\\int_a^b  g(x) df(x)$<br>\n",
      "\u5982\u679c\u7528$u$\u53d6\u4ee3$f(x)$\uff0c$v$\u53d6\u4ee3$g(x)$\uff0c\u5247\u53ef\u4ee5\u5f97\u5230\u4ee5\u4e0b\u5206\u90e8\u7a4d\u5206\u7684\u516c\u5f0f\uff1a<br>\n",
      "$ \\int_a^b u dv  =  (u \\cdot v)|_a^b -\\int_a^b  v du$"
     ]
    },
    {
     "cell_type": "heading",
     "level": 3,
     "metadata": {},
     "source": [
      "<font color='blue'>\n",
      "    Example: Calculate $\\int \\sin(x) \\cos(x)  dx$\n",
      "</font><br>\n",
      "Sol:\u6211\u5011\u5206\u5225\u7528\u4e09\u7a2e\u65b9\u6cd5\u4f86\u505a\u9019\u500b\u984c\u76ee\u3002<br>\n",
      "(\u65b9\u6cd51-\u8b8a\u6578\u8b8a\u63db\u6cd5)<br>\n",
      "\u5982\u679c\u9047\u5230\u7684\u662f$\\sin(x)$\u5947\u6578\u6b21\u65b9\uff0c\u63d0\u51fa\u4e00\u500b$\\sin(x)$\uff0c\u4e26\u4ee4$u=cos(x)$\uff0c\u5247\u5f97\u5230$du=-\\sin(x) dx $<br>\n",
      "\u5982\u679c\u9047\u5230\u7684\u662f$\\cos(x)$\u5947\u6578\u6b21\u65b9\uff0c\u63d0\u51fa\u4e00\u500b$\\cos(x)$\uff0c\u4e26\u4ee4$u=sin(x)$\uff0c\u5247\u5f97\u5230$du=\\cos(x) dx $<br>\n",
      "\u5982\u6b64\u4e00\u4f86\u4fbf\u53ef\u4ee5\u5c07\u539f\u672c\u7684\u5f0f\u5b50\u7528\u8b8a\u6578\u8b8a\u63db\u6210 $\\int f(u) du$ \u7684\u5f62\u5f0f<br><br>\n",
      "\u672c\u984c$\\sin(x),\\cos(x)$\u7686\u70ba\u4e00\u6b21\u65b9\uff0c\u56e0\u6b64\u6211\u5011\u6709\u5169\u7a2e\u4f5c\u6cd5\u3002<br>\n",
      "\u8b8a\u63db1\uff1a <br>\n",
      "Let $u=\\cos(x) , du=-\\sin(x) dx$<br>\n",
      "$\\Rightarrow \\int \\cos(x) \\sin(x) dx= - \\int \\cos(x) \\cdot (-\\sin(x) dx) = -\\int u du =-\\frac{u^2}{2}+C_1=- \\frac{\\cos^2(x)}{2} + C_1$<br>\n",
      "\u8b8a\u63db2\uff1a <br>\n",
      "Let $u=\\sin(x) , du=\\cos(x) dx$<br>\n",
      "$\\Rightarrow \\int \\cos(x) \\sin(x) dx= \\int \\sin(x) (\\cos(x) dx) = \\int u du =\\frac{u^2}{2}+C_2=\\frac{\\sin^2(x)}{2} + C_2$<br>\n",
      "(\u65b9\u6cd52-\u4e09\u89d2\u51fd\u6578\u95dc\u4fc2)<br>\n",
      "\u5229\u7528$\\sin(2x)=2\\sin(x)\\cos(x)$ \u5f97\u5230<br>\n",
      "$\\int \\sin(x)\\cos(x)dx = \\int \\frac{1}{2} \\sin(2x) dx = \\frac{1}{2} \\int \\sin(2x)dx $<br>\n",
      "$= \\frac{1}{2} (\\frac{-1}{2} \\cos(2x) +C) =\\frac{-1}{4} \\cos(2x) +C_3$ <br>\n",
      "(\u65b9\u6cd53-\u5206\u90e8\u7a4d\u5206)<br>\n",
      "\u9996\u5148\u6211\u5011\u8981\u627e\u5230$u$\u548c$dv$\uff0c\u4f7f\u5f97$\\sin(x)\\cos(x) dx = u \\cdot dv$<br>\n",
      "\u6bcf\u500b\u4eba\u9078\u7684\u65b9\u5f0f\u53ef\u80fd\u6703\u4e0d\u592a\u4e00\u6a23\uff0c\u6211\u4ee4$u=sin(x) , dv=cos(x)dx$<br>\n",
      "$\\Rightarrow du= cos(x) dx , v=sin(x)$<br>\n",
      "\u5229\u7528\u5206\u90e8\u7a4d\u5206\u7684\u516c\u5f0f$ \\int_a^b u dv  =  (u \\cdot v)|_a^b -\\int_a^b  v du$<br>\n",
      "$\\int \\sin(x)\\cos(x) dx =\\int  u \\cdot dv = u \\cdot v - \\int v du =\\sin^2(x) - \\int \\sin(x) \\cos(x) dx$<br>\n",
      "$\\Rightarrow 2 \\int \\sin(x)\\cos(x)dx = \\sin^2(x) + C \\Rightarrow \\int \\sin(x) \\cos(x) dx = \\frac{\\sin^2(x)}{2} + C_4$<br><br>\n",
      "\n",
      "\u5176\u4e2d$C_1,C_2,C_3,C_4$\u662f\u5e38\u6578<br>\n",
      "\u5982\u679c\u6211\u5011\u53bb\u6bd4\u8f03\u9019\u4e09\u500b\u4f5c\u6cd5\u7684\u7b54\u6848\uff0c\u5229\u7528$\\cos(2x)=1-2\\sin^2(x)$\u4ee5\u53ca$\\sin^2(x)+ \\cos^2(x) =1$<br>\n",
      "\u5176\u5be6\u9019\u4e9b\u7b54\u6848\u53ea\u5dee\u4e00\u500b\u5e38\u6578\uff0c\u56e0\u6b64\u9019\u4e9b\u4f5c\u6cd5\u7684\u7b54\u6848\u662f\u76f8\u540c\u7684\u3002"
     ]
    },
    {
     "cell_type": "heading",
     "level": 2,
     "metadata": {},
     "source": [
      "<font color='red'>\n",
      "Section 7.3 Trigonometric Substitution\n",
      "</font>"
     ]
    },
    {
     "cell_type": "heading",
     "level": 3,
     "metadata": {},
     "source": [
      "\u7576\u4f60\u9047\u5230\u7a4d\u5206\u5f0f\u4e2d\u51fa\u73fe\u6839\u865f\u6642\uff0c\u8981\u600e\u9ebc\u8fa6\u5462\uff1f<br>\n",
      "\u6211\u5011\u7684\u60f3\u6cd5\u662f\uff0c\u5c07$x$\u4ee5\u4e09\u89d2\u51fd\u6578\u53d6\u4ee3\uff0c\u4f7f\u4e4b\u8207\u6839\u865f\u62b5\u6d88\u3002<br>\n",
      "\u5982\u679c\u6211\u5011\u9047\u5230\u5e95\u4e0b\u4e09\u7a2e\u5f62\u5f0f\u7684\u984c\u76ee\uff0c\u53ef\u4ee5\u9019\u6a23\u505a\uff1a<br>\n",
      "(a)\u984c\u76ee\u4e2d\u51fa\u73fe$\\sqrt{a^2-x^2} \\Rightarrow $ Let $x=a \\sin(\\theta) \\Rightarrow \\sqrt{a^2-x^2}=\\sqrt{a^2cos^2(\\theta)} = a\\cos(\\theta)$<br>\n",
      "(b)\u984c\u76ee\u4e2d\u51fa\u73fe$\\sqrt{a^2+x^2}\\Rightarrow $ Let $x=a \\tan(\\theta) \\Rightarrow \\sqrt{a^2+x^2}=\\sqrt{a^2sec^2(\\theta)} = a\\sec(\\theta)$<br>\n",
      "(c)\u984c\u76ee\u4e2d\u51fa\u73fe$\\sqrt{x^2-a^2}\\Rightarrow $ Let $x=a \\sec(\\theta) \\Rightarrow \\sqrt{x^2-a^2}=\\sqrt{a^2tan^2(\\theta)} = a\\tan(\\theta)$<br>\n",
      "\u5982\u679c\u9047\u5230\u7684\u984c\u76ee\u6c92\u6709\u6839\u865f\uff0c\u4f46\u662f\u51fa\u73fe$a^2-x^2,a^2+x^2,x^2-a^2$\uff0c\u4e5f\u53ef\u4ee5\u7528\u9019\u7a2e\u65b9\u5f0f\u8f49\u63db\u3002<br>\n",
      "\u770b\u5e95\u4e0b\u4f8b\u984c\uff01"
     ]
    },
    {
     "cell_type": "heading",
     "level": 3,
     "metadata": {},
     "source": [
      "<font color='blue'>\n",
      "    Example: \u8a66\u6c42\u66f2\u7dda$y=\\frac{9}{x^2+9}$ \u8207 $x=0,x=3,y=0$  \uff0c\u56db\u689d\u7dda\u593e\u51fa\u7684\u5e73\u9762\u7e5e\u8457x\u8ef8\u65cb\u8f49\u800c\u6210\u7684\u7269\u9ad4\u9ad4\u7a4d\u70ba\u4f55\uff1f\n",
      "</font><br>\n",
      "Sol:\u8981\u6c42\u66f2\u7dda\u8207x\u8ef8\u593e\u51fa\u7684\u9762\u7a4d\uff0c\u53ef\u4ee5\u7528\u7a4d\u5206\u5f0f$\\int_0^3 y dx$\u8868\u793a\u3002<br>\n",
      "\u6c42\u7e5e\u8457x\u8ef8\u65cb\u8f49\u7684\u9ad4\u7a4d\uff0c\u53ef\u4ee5\u7528\u5713\u76e4\u6cd5\uff0c$\u9ad4\u7a4dV= \\int_0^3 \\pi y^2 dx $<br>\n",
      "\u56e0\u6b64\u6211\u5011\u53ea\u9700\u8a08\u7b97$\\int_0^3 \\pi(\\frac{9}{x^2+3^2})^2 dx$ <br>\n",
      "\u7a4d\u5206\u4e2d\u51fa\u73fe$x^2+a^2$\u7684\u5f62\u5f0f\uff0c\u56e0\u6b64\u6211\u4ee4$x=a\\tan(\\theta)=3\\tan(\\theta) , dx=3\\sec^2(\\theta) d\\theta$<br>\n",
      "\u7a4d\u5206\u5340\u57df\u7576$ x=0 \\Rightarrow \\tan(\\theta)=\\frac{0}{3}=0 \\Rightarrow \\theta  = 0 $<br>\n",
      "\u800c\u7576$ x=3 \\Rightarrow \\tan(\\theta)=1 \\Rightarrow \\theta  = \\frac{\\pi}{4} $<br>\n",
      "$V=\\int_0^3 \\pi(\\frac{9}{x^2+3^2})^2 dx= 81\\pi \\int_0^3 (\\frac{1}{x^2+3^2})^2 dx=81\\pi \\int_0^{\\frac{\\pi}{4}} \\frac{1}{9\\sec^2(\\theta)} 3\\sec^2(\\theta)d\\theta$<br>\n",
      "$\\Rightarrow V=3 \\pi \\int_0^{\\frac{\\pi}{4}} \\cos^2(\\theta)d\\theta = \\frac{3\\pi}{2} \\int_0^{\\frac{\\pi}{4}} (1+\\cos(2\\theta) )d\\theta=\\frac{3\\pi}{2} (\\theta + \\frac{1}{2} \\sin(2\\theta) ) |_0^{\\frac{\\pi}{4}}=\\frac{3\\pi^2}{8}+\\frac{3\\pi}{4}$\n"
     ]
    },
    {
     "cell_type": "heading",
     "level": 3,
     "metadata": {},
     "source": [
      "<font color='blue'>\n",
      "    Example: Evaluate $\\int \\frac {x} {\\sqrt {3-2x-x^2}} dx $\n",
      "</font><br>\n",
      "Sol:\u6709\u6642\u5019\u984c\u76ee\u4e0d\u662f\u90a3\u9ebc\u660e\u986f\uff0c\u6211\u5011\u9700\u8981\u505a\u4e00\u4e9b\u8b8a\u63db\u624d\u80fd\u770b\u51fa\u7aef\u502a\u3002<br>\n",
      "\u9996\u5148\u5c07\u5206\u6bcd\u914d\u65b9\uff0c$\\int \\frac {x} {\\sqrt {3-2x-x^2}} dx = \\int \\frac {x} {\\sqrt {4-(x+1)^2}} dx$<br>\n",
      "$(x+1)^2$\u4e0d\u597d\u8655\u7406\uff0c\u65bc\u662f\u6211\u4ee4$u=x+1 , du = dx$<br>\n",
      "$\\Rightarrow  \\int \\frac {x} {\\sqrt {4-(x+1)^2}} dx = \\int \\frac {u-1} {\\sqrt {4-u^2}} du $<br>\n",
      "\u51fa\u73fe$a^2-u^2$\u7684\u5f62\u5f0f\uff0c\u65bc\u662f\u6211\u4ee4$u=a\\sin(\\theta) = 2\\sin(\\theta) \\Rightarrow du = 2\\cos(\\theta) d\\theta$ <br>\n",
      "$\\Rightarrow  \\int \\frac {u-1} {\\sqrt {4-u^2}} du = \\int \\frac {2\\sin(\\theta)-1} {2cos(\\theta)} 2\\cos(\\theta)d\\theta =\\int (2\\sin(\\theta)-1) d\\theta $<br>\n",
      "$ =-2\\cos(\\theta)-\\theta-C = -\\sqrt{4-u^2} - \\sin^{-1}(\\frac{u}{2})+C=-\\sqrt{3-2x-x^2}-\\sin^{-1}(\\frac{x+1}{2})+C$<br>"
     ]
    },
    {
     "cell_type": "code",
     "collapsed": false,
     "input": [],
     "language": "python",
     "metadata": {},
     "outputs": []
    }
   ],
   "metadata": {}
  }
 ]
}