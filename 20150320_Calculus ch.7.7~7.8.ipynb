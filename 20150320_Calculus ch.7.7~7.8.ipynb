{
 "metadata": {
  "name": ""
 },
 "nbformat": 3,
 "nbformat_minor": 0,
 "worksheets": [
  {
   "cells": [
    {
     "cell_type": "heading",
     "level": 1,
     "metadata": {},
     "source": [
      "Calculus Ch.7.7~7.8\u3000\u3000\u3000\u3000\u3000\u3000\u3000\u3000\u3000\u3000\u3000Date:2015/03/20"
     ]
    },
    {
     "cell_type": "heading",
     "level": 2,
     "metadata": {},
     "source": [
      "<font color='red'>\n",
      "Section 7.7 Approximate Integration (\u4f30\u8a08\u7a4d\u5206)\n",
      "</font>"
     ]
    },
    {
     "cell_type": "heading",
     "level": 3,
     "metadata": {},
     "source": [
      "\u672c\u7ae0\u7bc0\u8981\u4ecb\u7d39\u5982\u4f55\u4f30\u8a08\u4e00\u500b\u7a4d\u5206<br>\u6709\u6642\u5019\u6211\u5011\u78b0\u5230\u7684\u7a4d\u5206\u5f0f\u4e0d\u662f\u90a3\u9ebc\u597d\u505a<br>\u5982\u679c\u6211\u5011\u5141\u8a31\u4e00\u9ede\u8aa4\u5dee\u5b58\u5728\u7684\u8a71<br>\u4e0d\u7528\u7b97\u51fa\u7a4d\u5206\u4e5f\u53ef\u4ee5\u7528\u4e0b\u5217\u4e09\u7a2e\u65b9\u6cd5\u53bb\u4f30\u8a08\u7a4d\u5206\u503c:"
     ]
    },
    {
     "cell_type": "heading",
     "level": 3,
     "metadata": {},
     "source": [
      "(1)\u4e2d\u9ede\u6cd5<br>\n",
      "\u5c07$[a,b]$\u5340\u9593\u5206\u6210n\u6bb5\uff0c\u6bcf\u4e00\u6bb5\u7684\u9577\u5ea6\u70ba$\\Delta x = \\frac{b-a}{n}$<br>\n",
      "\u53d6\u6bcf\u4e00\u6bb5\u7684\u51fd\u6578\u4e2d\u9ede\u505a\u70ba\u9577\u65b9\u5f62\u7684\u9ad8\uff0c\u7a4d\u5206\u503c\u5927\u7d04\u5c31\u662f\u9019\u4e9b\u9577\u65b9\u5f62\u9762\u7a4d\u7684\u7e3d\u548c<br>\n",
      "\u56e0\u6b64$\\int _a^b f(x) dx \\approx M_n = \\Delta x[f(\\overline {x_1}) + f(\\overline {x_2}) + ... +f(\\overline {x_n}) ] $<br>\n",
      "\u5176\u4e2d$\\Delta x = \\frac{b-a}{n}$\uff0c\u4e14$\\overline {x_i}=\\frac{1}{2}(x_{i-1}+x_i)$ \u662f\u7b2c$i$\u6bb5\u7684\u4e2d\u9ede <br><br>\n",
      "\u7528\u4e2d\u9ede\u6cd5\u4f30\u8a08\u7684\u7a4d\u5206\u503c\u4e4b\u8aa4\u5dee\u7a31\u70ba$E_M$<br>\n",
      "\u8aa4\u5dee\u6703\u7b26\u5408\u4ee5\u4e0b\u516c\u5f0f\uff1a <br>\n",
      "$|E_M| \\leq \\frac{K(b-a)^3}{24n^2} \uff0cwhere |f''(x)|\\leq K ,a \\leq x \\leq b$<br>\n",
      "\u56e0\u6b64\u6700\u5927\u8aa4\u5dee\u70ba$max |E_M| = \\frac{K(b-a)^3}{24n^2}$"
     ]
    },
    {
     "cell_type": "heading",
     "level": 3,
     "metadata": {},
     "source": [
      "(2)\u68af\u5f62\u6cd5<br>\n",
      "\u5c07$[a,b]$\u5340\u9593\u5206\u6210n\u6bb5\uff0c\u6bcf\u4e00\u6bb5\u7684\u9577\u5ea6\u70ba$\\Delta x = \\frac{b-a}{n}$<br>\n",
      "\u53d6\u6bcf\u4e00\u6bb5\u7684\u51fd\u6578\u8d77\u9ede\u548c\u7d42\u9ede\u505a\u70ba\u68af\u5f62\u7684\u4e0a\u908a\u548c\u4e0b\u908a\uff0c\u7a4d\u5206\u503c\u5927\u7d04\u5c31\u662f\u9019\u4e9b\u68af\u5f62\u9762\u7a4d\u7684\u7e3d\u548c<br>\n",
      "\u56e0\u6b64$\\int _a^b f(x) dx \\approx T_n =\\frac{ \\Delta x} {2} [f(x_0) + 2f(x_1) + ...+2f(x_{n-1}) +f(x_n) ] $<br>\n",
      "\u5176\u4e2d$\\Delta x = \\frac{b-a}{n}$\uff0c\u4e14$x_i=a+i\\Delta x$ <br><br>\n",
      "\u7528\u68af\u5f62\u6cd5\u4f30\u8a08\u7684\u7a4d\u5206\u503c\u4e4b\u8aa4\u5dee\u7a31\u70ba$E_r$<br>\n",
      "\u8aa4\u5dee\u6703\u7b26\u5408\u4ee5\u4e0b\u516c\u5f0f\uff1a <br>\n",
      "$|E_r| \\leq \\frac{K(b-a)^3}{12n^2} \uff0cwhere |f''(x)|\\leq K ,a \\leq x \\leq b$<br>\n",
      "\u56e0\u6b64\u6700\u5927\u8aa4\u5dee\u70ba$max |E_M| = \\frac{K(b-a)^3}{12n^2}$"
     ]
    },
    {
     "cell_type": "heading",
     "level": 3,
     "metadata": {},
     "source": [
      "(3)\u8f9b\u666e\u68ee\u6cd5<br>\n",
      "\u5c07$[a,b]$\u5340\u9593\u5206\u6210n\u6bb5\uff0c\u6bcf\u4e00\u6bb5\u7684\u9577\u5ea6\u70ba$\\Delta x = \\frac{b-a}{n}$<br>\n",
      "\u8f9b\u666e\u68ee\u6cd5\u662f\u7528\u4e8c\u6b21\u66f2\u7dda(\u62cb\u7269\u7dda)\u53bb\u4f30\u8a08\u7a4d\u5206\u7684\u503c<br>\n",
      "\u7576\u4f60\u7528\u8f9b\u666e\u68ee\u6cd5\u53bb\u4f30\u8a08\u6642\uff0cn\u5fc5\u9808\u662f\u4e00\u500b\u5076\u6578<br><br>\n",
      "$\\int _a^b f(x) dx \\approx S_n =\\frac{ \\Delta x} {3} [f(x_0) + 4f(x_1) +2f(x_2) + ... +4f(x_{n-1}) +f(x_n) ] $<br>\n",
      "\n",
      "\u7528\u8f9b\u666e\u68ee\u6cd5\u4f30\u8a08\u7684\u7a4d\u5206\u503c\u4e4b\u8aa4\u5dee\u7a31\u70ba$E_S$<br>\n",
      "\u8aa4\u5dee\u6703\u7b26\u5408\u4ee5\u4e0b\u516c\u5f0f\uff1a <br>\n",
      "$|E_S| \\leq \\frac{K(b-a)^5}{180n^4} \uff0cwhere |f^{(4)}(x)|\\leq K ,a \\leq x \\leq b$<br>\n",
      "\u56e0\u6b64\u6700\u5927\u8aa4\u5dee\u70ba$max |E_M| = \\frac{K(b-a)^5}{180n^4}$"
     ]
    },
    {
     "cell_type": "heading",
     "level": 2,
     "metadata": {},
     "source": [
      "<font color='red'>\n",
      "Section 7.8 Improper Integrals (\u7455\u7a4d\u5206)\n",
      "</font>"
     ]
    },
    {
     "cell_type": "heading",
     "level": 3,
     "metadata": {},
     "source": [
      "\u7455\u7a4d\u5206\u767d\u8a71\u4f86\u8aaa\u5c31\u662f\u6709\u7455\u75b5\u7684\u7a4d\u5206\uff0c\u7121\u6cd5\u76f4\u63a5\u8a08\u7b97\u800c\u5f97<br>\n",
      "\u9047\u5230\u6b64\u985e\u7a4d\u5206\uff0c\u53ef\u4ee5\u5927\u81f4\u5206\u70ba\u4ee5\u4e0b\u5169\u7a2e\u60c5\u6cc1<br><br>\n",
      "\n",
      "<font color='blue'>\n",
      "Type1: \u7121\u9650\u5340\u9593 <br>\n",
      "</font>\n",
      "(a) If $\\int_a^t f(x) dx$ exist for $ t \\geq a$<br>\n",
      "Then $\\int_a^{\\infty} f(x) dx =\\lim\\limits_{ t \\rightarrow \\infty} \\int_a^t f(x) dx$<br>\n",
      "(b) If $\\int_t^b f(x) dx$ exist for $ t \\leq b$<br>\n",
      "Then $\\int_{-\\infty}^b f(x) dx =\\lim\\limits_{ t \\rightarrow -\\infty} \\int_t^b f(x) dx$<br>\n",
      "(c) If both$\\int_a^{\\infty} f(x) dx $ and $\\int_{-\\infty}^a f(x) dx$ \u6536\u6582<br>\n",
      "Then $\\int_{-\\infty}^{\\infty} f(x) dx = \\int_{-\\infty}^a f(x) dx+\\int_a^{\\infty} f(x) dx $ <br>\n",
      "\n",
      "<font color='blue'>\n",
      "Type2: \u4e0d\u9023\u7e8c\u9ede <br>\n",
      "</font>\n",
      "(a)If $f \\in C[a,b)$, and discontinuous at $b$ <br>\n",
      "Then $\\int_a^b f(x) dx = \\lim\\limits_{t \\rightarrow b^{-}} \\int_a^t f(x)dx$<br>\n",
      "(b)If $f \\in C(a,b]$, and discontinuous at $a$<br> \n",
      "Then $\\int_a^b f(x) dx = \\lim\\limits_{t \\rightarrow a^{+}} \\int_t^b f(x)dx$<br>\n",
      "(c)If $f \\in C[a,b]$, and discontinuous at $c$ , $a \\leq c \\leq b$ <br>\n",
      "\u4e14 $\\int_a^{c^{-}}f(x)dx$ \u548c $\\int_{c^{+}}^b f(x)dx$\u90fd\u6536\u6582<br>\n",
      "Then $\\int_a^b f(x) dx = \\int_a^{c^{-}}f(x)dx + \\int_{c^{+}}^b f(x)dx$"
     ]
    },
    {
     "cell_type": "heading",
     "level": 3,
     "metadata": {},
     "source": [
      "\u4ecb\u7d39\u4e09\u500b\u8b93\u4f60\u5feb\u901f\u5224\u65b7\u6536\u6582\u767c\u6563\u7684\u5b9a\u7406\uff01<br>\n",
      "<font color='blue'>\n",
      "    (\u5b9a\u74061 - Limit test):<br>\n",
      "</font>\n",
      "\u5982\u679c$f(x)$\u7684\u6b63\u6975\u9650\u662f\u767c\u6563($\\lim\\limits_{x \\rightarrow \\infty} f(x)$  divergent)\uff0c\u5247$\\int_a^\\infty f(x)dx$\u4e5f\u767c\u6563\u3002<br>\n",
      "\u5982\u679c$f(x)$\u7684\u8ca0\u6975\u9650\u662f\u767c\u6563($\\lim\\limits_{x \\rightarrow -\\infty} f(x)$  divergent)\uff0c\u5247$\\int_{-\\infty}^b f(x)dx$\u4e5f\u767c\u6563\u3002<br>\n",
      "<font color='blue'>\n",
      "    (\u5b9a\u74062 - P test):<br>\n",
      "</font>\n",
      "$\\int_1^\\infty \\frac{1}{x^p}dx$<br>\n",
      "\u5982\u679c$p>1$\u5247\u6536\u6582\uff0c\u5982\u679c$p \\leq 1$\u5247\u767c\u6563\u3002<br>\n",
      "<font color='blue'>\n",
      "    (\u5b9a\u74063 - Comparison Theorem):<br>\n",
      "</font>\n",
      "\u5047\u8a2d$f,g$\u662f\u5169\u500b\u9023\u7e8c\u51fd\u6578\u4f7f\u5f97\u5c0d\u65bc$x \\geq a$\uff0c\u6709$f(x) \\geq g(x) \\geq 0$\uff0c\u5247\uff1a<br>\n",
      "(a)If $\\int_a^\\infty f(x)dx $ \u6536\u6582\uff0c then $\\int_a^\\infty g(x)dx $\u6536\u6582\u3002<br>\n",
      "(b)If $\\int_a^\\infty g(x)dx $ \u767c\u6563\uff0c then $\\int_a^\\infty f(x)dx $\u767c\u6563\u3002"
     ]
    }
   ],
   "metadata": {}
  }
 ]
}