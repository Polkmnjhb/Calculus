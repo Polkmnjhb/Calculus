{
 "metadata": {
  "name": ""
 },
 "nbformat": 3,
 "nbformat_minor": 0,
 "worksheets": [
  {
   "cells": [
    {
     "cell_type": "heading",
     "level": 1,
     "metadata": {},
     "source": [
      "Calculus Ch.3(\u4e0b)\u3000\u3000\u3000\u3000\u3000\u3000\u3000\u3000\u3000\u3000Date:2014/11/20"
     ]
    },
    {
     "cell_type": "heading",
     "level": 2,
     "metadata": {},
     "source": [
      "1.\u6307\u6578\u6210\u9577"
     ]
    },
    {
     "cell_type": "markdown",
     "metadata": {},
     "source": [
      "<font color ='blue'>\n",
      "\u4f8b\u5b501\uff1a\u4eba\u53e3\u6210\u9577<br>\n",
      "\u82f1\u570b\u7d93\u6fdf\u5b78\u5bb6\u99ac\u723e\u85a9\u65af (Malthus)\uff0c\u57281798\u5e74\u4ed6\u533f\u540d\u767c\u8868\u7684\u300a\u4eba\u53e3\u539f\u7406\u300b\u4e2d\uff0c\u63d0\u51fa\u4e0b\u8ff0\u4eba\u53e3\u6210\u9577\u6a21\u578b\uff1a<br>\n",
      "\u300c\u4eba\u53e3\u7684\u6210\u9577\u7387\u8207\u7e3d\u4eba\u53e3\u6578\u6210\u6b63\u6bd4\u3002\u300d<br>\n",
      "</font>\n",
      "\u4ee4$ P(t) $\u8868\u6642\u9593 $t$ \u7684\u4eba\u53e3\u6578\uff0c\u4e14 $P_0$ \u70ba $t=t_0$ \u6642\u7684\u4eba\u53e3\u6578\uff0c\u5247\u4ee5\u4e0a\u6558\u8ff0\u53ef\u4ee5\u6578\u91cf\u5316\u70ba:<br>\n",
      "$P'(t)=\\lambda \\cdot P(t)$ , \u5176\u4e2d$\\lambda$\u662f\u4e00\u500b\u5e38\u6578<br>\n",
      "\u7531\u89e3\u5fae\u5206\u65b9\u7a0b\uff0c\u53ef\u4ee5\u5f97\u5230$P(t)=P_0 \\cdot e^{\\lambda (t-t_0) }$<br>"
     ]
    },
    {
     "cell_type": "markdown",
     "metadata": {},
     "source": [
      "<font color ='blue'>\n",
      "\u4f8b\u5b502\uff1a\u725b\u9813\u51b7\u537b\u5b9a\u5f8b<br>\n",
      "\u4eca\u65e5\u6709\u4e00\u74f6\u6eab\u5ea6$20^oC$,\u653e\u7f6e\u65bc\u5ba4\u5167\u7684\u82ac\u9054\u6c7d\u6c34<br>\n",
      "\u70ba\u4e86\u89c0\u5bdf\u82ac\u9054\u6c7d\u6c34\u7684\u6eab\u5ea6\u4e0b\u964d\u901f\u7387<br>\n",
      "\u5c07\u82ac\u9054\u653e\u7f6e\u65bc$5^oC$\u7684\u51b0\u7bb1\u5167\uff0c30\u5206\u9418\u5f8c\u6e2c\u91cf<br>\n",
      "\u767c\u73fe\u6eab\u5ea6\u4e0b\u964d\u70ba$15^oC$<br>\n",
      "(1)\u8a66\u554f\u518d\u7d93\u904e30\u5206\u9418\uff0c\u5176\u6eab\u5ea6\u7d04\u70ba\u591a\u5c11\uff1f<br>\n",
      "(2)\u8981\u7d93\u904e\u591a\u5c11\u7684\u6642\u9593\u624d\u6703\u964d\u5230$10^oC$\uff1f<br><br>\n",
      "</font>\n",
      "\u5047\u8a2d\u6eab\u5ea6\u6539\u8b8a\u7684\u901f\u7387$\\frac{dT}{dt}$\u53ea\u8ddf\n",
      "<font color ='red'>\u81ea\u8eab\u6eab\u5ea6$T(t)$</font> \u8207<font color ='red'>\u74b0\u5883\u6eab\u5ea6$T_a$</font>\u6709\u95dc<br>\n",
      "\u5247\u6eab\u5ea6\u5dee$T(t)-T_a$\u6703\u7b26\u5408\u6307\u6578\u6210\u9577\uff0c\u4e5f\u5c31\u662f\u8aaa<br>\n",
      "$\\frac{dT}{dt} = -\\lambda (T(t)-T_a)$ , \u5047\u8a2d$T_0$\u662f\u6642\u9593$t=t_0$\u6642\u7684\u6eab\u5ea6<br>\n",
      "\u7531\u89e3\u5fae\u5206\u65b9\u7a0b\uff0c\u53ef\u4ee5\u5f97\u5230$T(t)-T_a=(T_0-T_a) \\cdot e^{-\\lambda (t-t_0)} \\Rightarrow T(t)=T_a+(T_0-T_a) \\cdot e^{-\\lambda (t-t_0)}$<br><br>\n",
      "\n",
      "\u672c\u4f8b\u4e2d\uff0c$T_0=20,T_a=5 , (T_0-T_a)=15$<br>\n",
      "\u4ee3\u5165\u65b9\u7a0b\u5f0f\u53ef\u5f97$T(t)  =5+15 \\cdot e^{-\\lambda (t-0)}$<br>\n",
      "(1)\u5df2\u77e5$15=T(30)=5+15 \\cdot e^{-30\\lambda } \\Rightarrow \\frac{10}{15}=e^{-30\\lambda} \\Rightarrow ln(\\frac{2}{3})=-30\\lambda $<br>\n",
      "\u56e0\u6b64$\\lambda = \\frac{ln(3)-ln(2)}{30} \\cong 0.01351...$<br>\n",
      "\u6240\u4ee5$T(60)=5+15 \\cdot e^{-60 \\cdot (0.01351) } = 5+15 \\cdot e^{-0.8109} \\cong  5+6.67 \\cong 11.67(^oC) $<br>\n",
      "(2)\u5047\u8a2d$T(t)=10 \\Rightarrow 5+15 \\cdot e^{-(0.01351)t }=10 \\Rightarrow e^{-(0.01351)t} = \\frac{5}{15} \\Rightarrow -0.01351t = ln(5)-ln(15) \\Rightarrow t=\\frac{ln(15)-ln(5)}{0.01351} \\cong 81.32$<br>\n",
      "\u7d93\u904e\u7d0481.32\u5206\u9418\u5f8c\uff0c\u6eab\u5ea6\u6703\u964d\u70ba$10^oC$<br>"
     ]
    },
    {
     "cell_type": "heading",
     "level": 2,
     "metadata": {},
     "source": [
      "2.\u7dda\u6027\u903c\u8fd1"
     ]
    },
    {
     "cell_type": "markdown",
     "metadata": {},
     "source": [
      "\u51fd\u6578$f(x)$\u7684\u7dda\u6027\u903c\u8fd1\u53ef\u5beb\u4f5c<br>\n",
      "<font color='red'>\n",
      "$f(x) \\cong f(a) + f'(a) (x-a), a \u70ba\u53c3\u8003\u9ede$ <br><br>\n",
      "</font>\n",
      "\u5927\u591a\u6578\u6642\u5019\uff0c\u4e00\u500b\u51fd\u6578\u5728\u67d0\u9ede\u7684\u503c\u4e0d\u597d\u8a08\u7b97<br>\n",
      "\u6b64\u6642\u6211\u5011\u53ef\u4ee5\u4f7f\u7528\u7dda\u6027\u903c\u8fd1\u7684\u60f3\u6cd5\u4f86\u6c42\u5f97\u8a72\u9ede\u7684\u503c<br>\n",
      "\u52d5\u624b\u756b\u756b\u770b$f(x)=e^x$\u7684\u5716\u5f62,<br>\n",
      "\u5df2\u77e5$e^1=2.718 , e^2=7.389$ ,\u5982\u4f55\u6c42\u5f97$e^{(1.01)}$?<br><br>\n",
      "\n",
      "\u4f60\u53ef\u4ee5\u628a$f(1.01)$\u60f3\u50cf\u6210\u662f\u5f9e$f(1)$\u51fa\u767c,\u5411\u53f3\u8d70\u4e860.01\u55ae\u4f4d<br>\n",
      "\u9ad8\u5ea6\u6539\u8b8a\u7387\u7d04\u70ba$f'(1)$,\u56e0\u6b64\u7e3d\u9ad8\u5ea6$f(1.01) \\cong f(1) + 0.01 \\cdot f'(1)$<br>\n",
      "\u4ee5\u525b\u525b\u7684\u4f8b\u5b50\u4f86\u8aaa,$e^{1.01} \\cong e^1 + 0.01 \\cdot e^1 \\cong 2.990$<br>\n",
      "\u5be6\u969b\u4e0a$e^{1.01}=3.004$ \u76f8\u7576\u63a5\u8fd1\uff01<br>\n",
      "\n",
      "\u4f46\u82e5\u4f60\u7528$e^1$\u53bb\u4f30\u8a08$e^2$\u7684\u503c\uff0c\u6703\u5f97\u5230$e^2 \\cong e^1 + e^1 = 5.437$<br>\n",
      "\u548c$e^2=7.389$\u76f8\u53bb\u751a\u9060\uff01<br>\n"
     ]
    },
    {
     "cell_type": "code",
     "collapsed": false,
     "input": [],
     "language": "python",
     "metadata": {},
     "outputs": []
    }
   ],
   "metadata": {}
  }
 ]
}