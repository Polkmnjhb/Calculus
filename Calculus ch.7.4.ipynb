{
 "metadata": {
  "name": ""
 },
 "nbformat": 3,
 "nbformat_minor": 0,
 "worksheets": [
  {
   "cells": [
    {
     "cell_type": "heading",
     "level": 1,
     "metadata": {},
     "source": [
      "Calculus Ch.7.4\u3000\u3000\u3000\u3000\u3000\u3000\u3000\u3000\u3000\u3000\u3000Date:2015/03/13"
     ]
    },
    {
     "cell_type": "heading",
     "level": 2,
     "metadata": {},
     "source": [
      "<font color='red'>\n",
      "Section 7.4 Rational Function By Partial Fractions\n",
      "</font>"
     ]
    },
    {
     "cell_type": "heading",
     "level": 3,
     "metadata": {},
     "source": [
      "\u7576\u4f60\u9047\u5230\u7a4d\u5206\u5f0f\u4e2d\u7684\u51fd\u6578\u662f\u500b\u6709\u7406\u51fd\u6578(Rational Funtion)\u7684\u6642\u5019\u600e\u9ebc\u8fa6\u5462\uff1f<br>\n",
      "\u4efb\u4e00\u500b\u6709\u7406\u51fd\u6578$f(x)$\u90fd\u53ef\u4ee5\u5beb\u4f5c$f(x) = \\frac{P(x)}{Q(x)}$\uff0c\u5176\u4e2d$P(x),Q(x)$\u662f\u5169\u591a\u9805\u5f0f<br>\n",
      "\u6211\u5011\u5206\u6210\u5169\u7a2e\u60c5\u5f62\u8a0e\u8ad6\uff1a<br>\n",
      "case1: \u5982\u679c$P(x)$\u7684\u6b21\u6578\u5927\u65bc\u7b49\u65bc$Q(x)$\u7684\u6b21\u6578\uff0c\u4e5f\u5c31\u662f\u8aaa\u5982\u679c$deg(P(x)) \\geq deg(Q(x))$<br>\n",
      "\u5247\u5229\u7528\u9577\u9664\u6cd5\uff0c\u6211\u5011\u53ef\u4ee5\u5f97\u5230$f(x)=S(x) + \\frac{R(x)}{Q(x)}$ ,$S(x)$\u70ba\u5546\u5f0f\u591a\u9805\u5f0f\uff0c$R(x)$\u70ba\u6b21\u6578\u5c0f\u65bc$Q(x)$\u7684\u591a\u9805\u5f0f\u3002<br>\n",
      "case2:\u5982\u679c$deg(P(x)) < deg(Q(x))$ <br>\n",
      "\u5148\u5c07$Q(x)$\u56e0\u5f0f\u5206\u89e3\u6210$Q(x)=(f_1(x))^{b_1} \\cdot (f_2(x))^{b_2} \\cdot ... \\cdot (f_n(x))^{b_n}$<br>\n",
      "\u5047\u8a2d$\\frac{P(x)}{Q(x)} = \\frac{g_1(x)}{f_1(x)} + \\frac{g_2(x)}{(f_1(x))^2}+ ... + \\frac{g_{b_1+b_2+...+b_n}(x)}{(f_n(x))^{b_n}}$<br>\n",
      "\u5176\u4e2d$g(x)$\u7684\u6b21\u6578\u5047\u8a2d\u70ba\u5206\u6bcd$f(x)$\u7684\u6b21\u6578\u6e1b1\uff01<br><br>\n",
      "\n",
      "\u6700\u5f8c\u6211\u5011\u53ef\u4ee5\u5f97\u5230 $\\int f(x) dx = \\int \\frac{P(x)}{Q(x)} dx = \\int  \\frac{g_1(x)}{f_1(x)} + \\frac{g_2(x)}{(f_1(x))^2}+ ... + \\frac{g_{b_1+b_2+...+b_n}(x)}{(f_n(x))^{b_n}}$ dx<br>\n",
      "$= \\int \\frac{g_1(x)}{f_1(x)} dx + \\int \\frac{g_2(x)}{(f_1(x))^2}dx + ... + \\int \\frac{g_{b_1+b_2+...+b_n}(x)}{(f_n(x))^{b_n}} dx$<br>\n",
      "\u9019\u6a23\u6703\u6bd4\u8f03\u597d\u505a\u55ce...\u8b93\u6211\u5011\u770b\u5e95\u4e0b\u7684\u4f8b\u984c\u3002"
     ]
    },
    {
     "cell_type": "heading",
     "level": 3,
     "metadata": {},
     "source": [
      "<font color='blue'>\n",
      "    Example: $\\int \\frac{3x(x^2+1)^2+5}{x(x^2+1)^2} dx $<br>\n",
      "</font>\n",
      "Sol:\u6211\u5011\u5f88\u5feb\u7684\u770b\u51fa\u7a4d\u5206\u5f0f\u5167$f(x)$\u662f\u4e00\u500b\u6709\u7406\u51fd\u6578<br>\n",
      "\u56e0\u6b64\u4ee4$P(x)=3x(x^2+1)^2+5,Q(x)=x(x^2+1)^2$<br>\n",
      "step1:<br>\n",
      "\u56e0\u70ba$deg(P(x))=5 \\geq 5=deg(Q(x))$<br>\n",
      "\u5229\u7528\u9577\u9664\u6cd5\u5f97\u5230$f(x) = \\frac{3x(x^2+1)^2+5}{x(x^2+1)^2} = 3+ \\frac{5}{x(x^2+1)^2}$<br>\n",
      "step2:<br>\n",
      "\u63a5\u8457\u5c07$Q(x)$\u56e0\u5f0f\u5206\u89e3\uff0c\u5f97\u5230$Q(x)=x \\cdot (x^2+1)^2 = f_1(x) \\cdot (f_2(x))^2$<br>\n",
      "\u5047\u8a2d$ \\frac{5}{x(x^2+1)^2} = \\frac{A}{x} + \\frac{Bx+C}{x^2+1} + \\frac{Dx+E}{(x^2+1)^2}$\uff0c\u5176\u4e2dA,B,C,D,E\u70ba\u5e38\u6578\u3002<br>\n",
      "step3:<br>\n",
      "\u6211\u5011\u5982\u4f55\u627e\u51fa\u5e38\u6578ABCDE\uff1f<br>\n",
      "\u5c07\u5f0f\u5b50\u5169\u7aef\u540c\u4e58\u4ee5$Q(x)$\uff0c\u6309\u7167\u65b9\u7a0b\u5f0f\u7684\u6b21\u6578\uff0c\u6211\u5011\u7e3d\u5171\u53ef\u4ee5\u5f97\u5230\u4e94\u500b\u65b9\u7a0b\u5f0f\u3002<br>\n",
      "$\\Rightarrow 5 =A (x^2+1)^2 + (Bx+C)x(x^2+1)+ (Dx+E) x$<br>\n",
      "\u7d93\u6574\u7406\u5f97\uff0c$ 5 = (A+B) x^4 + Cx^3 +(2A+B+D) x^2 + (C+E)x + A $<br>\n",
      "\u6bd4\u8f03\u4fc2\u6578\u5f8c\u5f97\u51fa$A=5,B=-5,C=0,D=-5,E=0$<br>\n",
      "\u56e0\u6b64$f(x) = 3+ \\frac{5}{x} + \\frac{-5x}{x^2+1} + \\frac{-5x}{(x^2+1)^2}$<br>\n",
      "\n",
      "step4:<br>\n",
      "$\\int \\frac{3x(x^2+1)^2+5}{x(x^2+1)^2} dx =\\int ( 3+ \\frac{5}{x} - \\frac{5x}{x^2+1} - \\frac{5x}{(x^2+1)^2} )dx $<br>\n",
      "$=3x+5ln|x|-\\frac{5}{2}ln(x^2+1)+\\frac{5}{2(x^2+1)}+K$  ,  $K$\u662f\u4e00\u500b\u5e38\u6578"
     ]
    },
    {
     "cell_type": "heading",
     "level": 3,
     "metadata": {},
     "source": [
      "\u6211\u5011\u5728\u505a\u4e00\u500b\u4f8b\u984c\u8a66\u8a66\u770b\u3002<br>\n",
      "<font color='blue'>\n",
      "    Example: $\\int_1^2 \\frac{4y^2-7y-12}{y(y+2)(y-3)} dy $<br>\n",
      "</font>\n",
      "Sol:<br>\n",
      "step1:\u5047\u8a2d$f(y)=\\frac{4y^2-7y-12}{y(y+2)(y-3)}=\\frac{A}{y}+\\frac{B}{y+2}+\\frac{C}{y-3}$<br>\n",
      "step2:\u5169\u908a\u540c\u4e58\u4ee5$Q(x)$<br>\n",
      "$\\Rightarrow 4y^2-7y-12 = A(y+2)(y-3) + By(y-3)+Cy(y+2)$<br>\n",
      "step3:\u5206\u5225\u4ee4(a)y=0 (b)y+2=0  (c)y-3=0 <br>\n",
      "(a)\u5f97\u5230: $-12 = -6A \\Rightarrow A=2$<br>\n",
      "(b)\u5f97\u5230: $16+14-12= -10B \\Rightarrow B=\\frac{9}{5}$ <br>\n",
      "(c)\u5f97\u5230: $36-21-12=15C \\Rightarrow C=\\frac{1}{5}$<br>\n",
      "step4:\u4ee3\u56de\u539f\u5f0f<br>\n",
      "$\\int_1^2 f(y)dy = \\int_1^2 (\\frac{2}{y} + \\frac{\\frac{9}{5}}{y+2} + \\frac{\\frac{1}{5}}{y-3} ) dy$<br>\n",
      "$=[ 2ln|y|+\\frac{9}{5}ln|y+2|+\\frac{1}{5}ln|y-3| ]|_1^2 = \\frac{9}{5}ln (\\frac{8}{3})$<br>"
     ]
    },
    {
     "cell_type": "code",
     "collapsed": false,
     "input": [],
     "language": "python",
     "metadata": {},
     "outputs": []
    }
   ],
   "metadata": {}
  }
 ]
}